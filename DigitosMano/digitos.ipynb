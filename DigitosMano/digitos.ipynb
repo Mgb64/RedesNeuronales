{
 "cells": [
  {
   "cell_type": "code",
   "execution_count": 2,
   "id": "962e7756",
   "metadata": {},
   "outputs": [
    {
     "name": "stderr",
     "output_type": "stream",
     "text": [
      "2025-10-12 11:59:51.662868: I tensorflow/core/util/port.cc:113] oneDNN custom operations are on. You may see slightly different numerical results due to floating-point round-off errors from different computation orders. To turn them off, set the environment variable `TF_ENABLE_ONEDNN_OPTS=0`.\n",
      "2025-10-12 11:59:51.664625: I external/local_tsl/tsl/cuda/cudart_stub.cc:31] Could not find cuda drivers on your machine, GPU will not be used.\n",
      "2025-10-12 11:59:51.691075: E external/local_xla/xla/stream_executor/cuda/cuda_dnn.cc:9261] Unable to register cuDNN factory: Attempting to register factory for plugin cuDNN when one has already been registered\n",
      "2025-10-12 11:59:51.691103: E external/local_xla/xla/stream_executor/cuda/cuda_fft.cc:607] Unable to register cuFFT factory: Attempting to register factory for plugin cuFFT when one has already been registered\n",
      "2025-10-12 11:59:51.692158: E external/local_xla/xla/stream_executor/cuda/cuda_blas.cc:1515] Unable to register cuBLAS factory: Attempting to register factory for plugin cuBLAS when one has already been registered\n",
      "2025-10-12 11:59:51.697130: I external/local_tsl/tsl/cuda/cudart_stub.cc:31] Could not find cuda drivers on your machine, GPU will not be used.\n",
      "2025-10-12 11:59:51.697610: I tensorflow/core/platform/cpu_feature_guard.cc:182] This TensorFlow binary is optimized to use available CPU instructions in performance-critical operations.\n",
      "To enable the following instructions: AVX2 AVX512F AVX512_VNNI AVX512_BF16 FMA, in other operations, rebuild TensorFlow with the appropriate compiler flags.\n",
      "2025-10-12 11:59:52.194671: W tensorflow/compiler/tf2tensorrt/utils/py_utils.cc:38] TF-TRT Warning: Could not find TensorRT\n"
     ]
    }
   ],
   "source": [
    "# IMPORTANDO LIBRERIAS\n",
    "\n",
    "import tensorflow_datasets as tfds\n",
    "import math\n",
    "import tensorflow as tf"
   ]
  },
  {
   "cell_type": "code",
   "execution_count": 3,
   "id": "6a4932db",
   "metadata": {},
   "outputs": [],
   "source": [
    "# Cargando nuestro dataset\n",
    "data, metadata = tfds.load('mnist', as_supervised=True, with_info=True)"
   ]
  },
  {
   "cell_type": "code",
   "execution_count": 4,
   "id": "7040b697",
   "metadata": {},
   "outputs": [],
   "source": [
    "# Funcion para normalizar nuestro dataset\n",
    "def normalize(images, labels):\n",
    "  images = tf.cast(images, tf.float32)\n",
    "  images /= 255 #Aqui lo pasa de 0-255 a 0-1\n",
    "  return images, labels"
   ]
  },
  {
   "cell_type": "code",
   "execution_count": 5,
   "id": "9ba8dbac",
   "metadata": {},
   "outputs": [],
   "source": [
    "# Dividimos nuestro dataset\n",
    "train, test = data['train'], data['test']"
   ]
  },
  {
   "cell_type": "code",
   "execution_count": 6,
   "id": "d36d3eb2",
   "metadata": {},
   "outputs": [],
   "source": [
    "# Guardamos los valores posibles de clasificacion\n",
    "labels = metadata.features['label'].names"
   ]
  },
  {
   "cell_type": "code",
   "execution_count": 7,
   "id": "319e1507",
   "metadata": {},
   "outputs": [],
   "source": [
    "#Normalizar los datos de entrenamiento y pruebas con la funcion que hicimos\n",
    "train = train.map(normalize)\n",
    "test = test.map(normalize)"
   ]
  },
  {
   "cell_type": "code",
   "execution_count": 8,
   "id": "0b4020d3",
   "metadata": {},
   "outputs": [],
   "source": [
    "# Cargamos a memoria para mas rapidez de entrenamiento\n",
    "train = train.cache()\n",
    "test = test.cache()"
   ]
  },
  {
   "cell_type": "code",
   "execution_count": 9,
   "id": "50497ba7",
   "metadata": {},
   "outputs": [],
   "source": [
    "# Creamos el modelo\n",
    "model = tf.keras.Sequential([\n",
    "\n",
    "  tf.keras.layers.Input(shape=(28, 28, 1)),\n",
    "    tf.keras.layers.Conv2D(32, (3,3), activation='relu' ),\n",
    "    tf.keras.layers.MaxPooling2D(2, 2),\n",
    "\n",
    "    tf.keras.layers.Conv2D(64, (3,3), activation='relu'),\n",
    "    tf.keras.layers.MaxPooling2D(2,2),\n",
    "\n",
    "    tf.keras.layers.Conv2D(128, (3,3), activation='relu'),\n",
    "    tf.keras.layers.MaxPooling2D(2,2),\n",
    "\n",
    "    tf.keras.layers.Dropout(0.5),\n",
    "    tf.keras.layers.Flatten(),\n",
    "    tf.keras.layers.Dense(512, activation='relu'),\n",
    "    tf.keras.layers.Dense(10, activation=tf.nn.softmax) #Para redes de clasificacion\n",
    "])"
   ]
  },
  {
   "cell_type": "code",
   "execution_count": 10,
   "id": "d2f597fb",
   "metadata": {},
   "outputs": [],
   "source": [
    "# Compilamos el modelo\n",
    "model.compile(\n",
    "    optimizer='adam',\n",
    "    loss=tf.keras.losses.SparseCategoricalCrossentropy(),\n",
    "    metrics=['accuracy']\n",
    ")"
   ]
  },
  {
   "cell_type": "code",
   "execution_count": 11,
   "id": "ff675242",
   "metadata": {},
   "outputs": [],
   "source": [
    "#Los numeros de datos en entrenamiento y pruebas (60k y 10k)\n",
    "train_size = metadata.splits[\"train\"].num_examples\n",
    "test_size = metadata.splits[\"test\"].num_examples\n",
    "\n",
    "#El trabajo por lotes permite que entrenamientos con gran cantidad de datos se haga de manera mas eficiente\n",
    "BATCH_SIZE = 32"
   ]
  },
  {
   "cell_type": "code",
   "execution_count": 12,
   "id": "51214037",
   "metadata": {},
   "outputs": [],
   "source": [
    "#Shuffle y repeat hacen que los datos esten mezclados de manera aleatoria para que la red\n",
    "#no se vaya a aprender el orden de las cosas\n",
    "train = train.repeat().shuffle(train_size).batch(BATCH_SIZE)\n",
    "test = test.batch(BATCH_SIZE)"
   ]
  },
  {
   "cell_type": "code",
   "execution_count": 13,
   "id": "8bae6922",
   "metadata": {},
   "outputs": [
    {
     "name": "stdout",
     "output_type": "stream",
     "text": [
      "Epoch 1/20\n",
      "1875/1875 [==============================] - 13s 6ms/step - loss: 0.3001 - accuracy: 0.9049 - val_loss: 0.0709 - val_accuracy: 0.9791\n",
      "Epoch 2/20\n",
      "1875/1875 [==============================] - 12s 6ms/step - loss: 0.1185 - accuracy: 0.9653 - val_loss: 0.0591 - val_accuracy: 0.9828\n",
      "Epoch 3/20\n",
      "1875/1875 [==============================] - 12s 6ms/step - loss: 0.0925 - accuracy: 0.9721 - val_loss: 0.0521 - val_accuracy: 0.9840\n",
      "Epoch 4/20\n",
      "1875/1875 [==============================] - 12s 6ms/step - loss: 0.0764 - accuracy: 0.9770 - val_loss: 0.0493 - val_accuracy: 0.9862\n",
      "Epoch 5/20\n",
      "1875/1875 [==============================] - 11s 6ms/step - loss: 0.0668 - accuracy: 0.9800 - val_loss: 0.0457 - val_accuracy: 0.9865\n",
      "Epoch 6/20\n",
      "1875/1875 [==============================] - 12s 6ms/step - loss: 0.0577 - accuracy: 0.9827 - val_loss: 0.0411 - val_accuracy: 0.9882\n",
      "Epoch 7/20\n",
      "1875/1875 [==============================] - 12s 7ms/step - loss: 0.0551 - accuracy: 0.9835 - val_loss: 0.0485 - val_accuracy: 0.9859\n",
      "Epoch 8/20\n",
      "1875/1875 [==============================] - 12s 7ms/step - loss: 0.0479 - accuracy: 0.9855 - val_loss: 0.0512 - val_accuracy: 0.9861\n",
      "Epoch 9/20\n",
      "1875/1875 [==============================] - 12s 6ms/step - loss: 0.0446 - accuracy: 0.9861 - val_loss: 0.0430 - val_accuracy: 0.9883\n",
      "Epoch 10/20\n",
      "1875/1875 [==============================] - 13s 7ms/step - loss: 0.0411 - accuracy: 0.9875 - val_loss: 0.0441 - val_accuracy: 0.9871\n",
      "Epoch 11/20\n",
      "1875/1875 [==============================] - 12s 7ms/step - loss: 0.0395 - accuracy: 0.9880 - val_loss: 0.0368 - val_accuracy: 0.9903\n",
      "Epoch 12/20\n",
      "1875/1875 [==============================] - 13s 7ms/step - loss: 0.0372 - accuracy: 0.9887 - val_loss: 0.0397 - val_accuracy: 0.9885\n",
      "Epoch 13/20\n",
      "1875/1875 [==============================] - 14s 8ms/step - loss: 0.0334 - accuracy: 0.9901 - val_loss: 0.0420 - val_accuracy: 0.9889\n",
      "Epoch 14/20\n",
      "1875/1875 [==============================] - 12s 6ms/step - loss: 0.0343 - accuracy: 0.9897 - val_loss: 0.0453 - val_accuracy: 0.9887\n",
      "Epoch 15/20\n",
      "1875/1875 [==============================] - 12s 7ms/step - loss: 0.0338 - accuracy: 0.9900 - val_loss: 0.0435 - val_accuracy: 0.9883\n",
      "Epoch 16/20\n",
      "1875/1875 [==============================] - 14s 7ms/step - loss: 0.0304 - accuracy: 0.9905 - val_loss: 0.0464 - val_accuracy: 0.9874\n",
      "Epoch 17/20\n",
      "1875/1875 [==============================] - 14s 8ms/step - loss: 0.0301 - accuracy: 0.9909 - val_loss: 0.0383 - val_accuracy: 0.9912\n",
      "Epoch 18/20\n",
      "1875/1875 [==============================] - 13s 7ms/step - loss: 0.0284 - accuracy: 0.9915 - val_loss: 0.0409 - val_accuracy: 0.9894\n",
      "Epoch 19/20\n",
      "1875/1875 [==============================] - 12s 7ms/step - loss: 0.0276 - accuracy: 0.9917 - val_loss: 0.0429 - val_accuracy: 0.9887\n",
      "Epoch 20/20\n",
      "1875/1875 [==============================] - 12s 6ms/step - loss: 0.0265 - accuracy: 0.9915 - val_loss: 0.0473 - val_accuracy: 0.9881\n",
      "CPU times: user 13min 32s, sys: 1min 1s, total: 14min 34s\n",
      "Wall time: 4min 8s\n"
     ]
    }
   ],
   "source": [
    "%time history = model.fit(train, epochs=20, validation_data=test, steps_per_epoch= math.ceil(train_size/BATCH_SIZE), verbose=1 )"
   ]
  },
  {
   "cell_type": "code",
   "execution_count": 14,
   "id": "5525804b",
   "metadata": {},
   "outputs": [
    {
     "data": {
      "image/png": "[encoded data removed]",
      "text/plain": [
       "<Figure size 640x480 with 1 Axes>"
      ]
     },
     "metadata": {},
     "output_type": "display_data"
    },
    {
     "data": {
      "image/png": "[encoded data removed]",
      "text/plain": [
       "<Figure size 640x480 with 1 Axes>"
      ]
     },
     "metadata": {},
     "output_type": "display_data"
    }
   ],
   "source": [
    "import matplotlib.pyplot as plt\n",
    "\n",
    "plt.subplot(1,2,1)\n",
    "plt.plot(history.epoch,history.history['loss'], 'b',label='error')\n",
    "plt.title(u'categorical_crossentropy')\n",
    "plt.xlabel(u'época')\n",
    "plt.ylabel(r'$loss(\\omega, b)$')\n",
    "plt.grid(True)\n",
    "#plt.legend(loc='upper right')\n",
    "plt.show()\n",
    "\n",
    "plt.subplot(1,2,2)\n",
    "plt.plot(history.epoch,history.history['accuracy'], 'r',label='precisión')\n",
    "#plt.title(u'categorical_crossentropy')\n",
    "plt.xlabel(u'época')\n",
    "plt.ylabel(r'$accuracy(\\omega, b)$')\n",
    "plt.ylim([0,1.1])\n",
    "plt.grid(True)\n",
    "#plt.legend(loc='lower right')\n",
    "plt.show()"
   ]
  },
  {
   "cell_type": "code",
   "execution_count": 15,
   "id": "631396a5",
   "metadata": {},
   "outputs": [
    {
     "name": "stderr",
     "output_type": "stream",
     "text": [
      "/home/lcc_rn_08/.conda/envs/ml_gpu/lib/python3.10/site-packages/keras/src/engine/training.py:3103: UserWarning: You are saving your model as an HDF5 file via `model.save()`. This file format is considered legacy. We recommend using instead the native Keras format, e.g. `model.save('my_model.keras')`.\n",
      "  saving_api.save_model(\n"
     ]
    }
   ],
   "source": [
    "# Guardamos nuestro modelo\n",
    "model.save('numeros_CNN.h5')"
   ]
  },
  {
   "cell_type": "code",
   "execution_count": 17,
   "id": "f094e5b7",
   "metadata": {},
   "outputs": [],
   "source": [
    "# Creando una carpeta de salida\n",
    "import os\n",
    "\n",
    "if not os.path.exists(\"output\"):\n",
    "  !mkdir \"output\""
   ]
  },
  {
   "cell_type": "code",
   "execution_count": 19,
   "id": "795ff0a4",
   "metadata": {},
   "outputs": [
    {
     "name": "stdout",
     "output_type": "stream",
     "text": [
      "Collecting tensorflowjs\n",
      "  Downloading tensorflowjs-4.22.0-py3-none-any.whl.metadata (3.2 kB)\n",
      "Collecting flax>=0.7.2 (from tensorflowjs)\n",
      "  Downloading flax-0.10.7-py3-none-any.whl.metadata (11 kB)\n",
      "Requirement already satisfied: importlib_resources>=5.9.0 in /home/lcc_rn_08/.conda/envs/ml_gpu/lib/python3.10/site-packages (from tensorflowjs) (6.5.2)\n",
      "Collecting jax>=0.4.13 (from tensorflowjs)\n",
      "  Downloading jax-0.6.2-py3-none-any.whl.metadata (13 kB)\n",
      "Collecting jaxlib>=0.4.13 (from tensorflowjs)\n",
      "  Downloading jaxlib-0.6.2-cp310-cp310-manylinux2014_x86_64.whl.metadata (1.3 kB)\n",
      "Requirement already satisfied: tensorflow<3,>=2.13.0 in /home/lcc_rn_08/.conda/envs/ml_gpu/lib/python3.10/site-packages (from tensorflowjs) (2.15.0)\n",
      "Collecting tf-keras>=2.13.0 (from tensorflowjs)\n",
      "  Downloading tf_keras-2.20.1-py3-none-any.whl.metadata (1.8 kB)\n",
      "Collecting tensorflow-decision-forests>=1.5.0 (from tensorflowjs)\n",
      "  Downloading tensorflow_decision_forests-1.12.0-cp310-cp310-manylinux_2_17_x86_64.manylinux2014_x86_64.whl.metadata (6.3 kB)\n",
      "Requirement already satisfied: six<2,>=1.16.0 in /home/lcc_rn_08/.conda/envs/ml_gpu/lib/python3.10/site-packages (from tensorflowjs) (1.17.0)\n",
      "Collecting tensorflow-hub>=0.16.1 (from tensorflowjs)\n",
      "  Downloading tensorflow_hub-0.16.1-py2.py3-none-any.whl.metadata (1.3 kB)\n",
      "Collecting packaging~=23.1 (from tensorflowjs)\n",
      "  Downloading packaging-23.2-py3-none-any.whl.metadata (3.2 kB)\n",
      "Requirement already satisfied: absl-py>=1.0.0 in /home/lcc_rn_08/.conda/envs/ml_gpu/lib/python3.10/site-packages (from tensorflow<3,>=2.13.0->tensorflowjs) (2.3.1)\n",
      "Requirement already satisfied: astunparse>=1.6.0 in /home/lcc_rn_08/.conda/envs/ml_gpu/lib/python3.10/site-packages (from tensorflow<3,>=2.13.0->tensorflowjs) (1.6.3)\n",
      "Requirement already satisfied: flatbuffers>=23.5.26 in /home/lcc_rn_08/.conda/envs/ml_gpu/lib/python3.10/site-packages (from tensorflow<3,>=2.13.0->tensorflowjs) (25.9.23)\n",
      "Requirement already satisfied: gast!=0.5.0,!=0.5.1,!=0.5.2,>=0.2.1 in /home/lcc_rn_08/.conda/envs/ml_gpu/lib/python3.10/site-packages (from tensorflow<3,>=2.13.0->tensorflowjs) (0.6.0)\n",
      "Requirement already satisfied: google-pasta>=0.1.1 in /home/lcc_rn_08/.conda/envs/ml_gpu/lib/python3.10/site-packages (from tensorflow<3,>=2.13.0->tensorflowjs) (0.2.0)\n",
      "Requirement already satisfied: h5py>=2.9.0 in /home/lcc_rn_08/.conda/envs/ml_gpu/lib/python3.10/site-packages (from tensorflow<3,>=2.13.0->tensorflowjs) (3.14.0)\n",
      "Requirement already satisfied: libclang>=13.0.0 in /home/lcc_rn_08/.conda/envs/ml_gpu/lib/python3.10/site-packages (from tensorflow<3,>=2.13.0->tensorflowjs) (18.1.1)\n",
      "Requirement already satisfied: ml-dtypes~=0.2.0 in /home/lcc_rn_08/.conda/envs/ml_gpu/lib/python3.10/site-packages (from tensorflow<3,>=2.13.0->tensorflowjs) (0.2.0)\n",
      "Requirement already satisfied: numpy<2.0.0,>=1.23.5 in /home/lcc_rn_08/.conda/envs/ml_gpu/lib/python3.10/site-packages (from tensorflow<3,>=2.13.0->tensorflowjs) (1.26.4)\n",
      "Requirement already satisfied: opt-einsum>=2.3.2 in /home/lcc_rn_08/.conda/envs/ml_gpu/lib/python3.10/site-packages (from tensorflow<3,>=2.13.0->tensorflowjs) (3.4.0)\n",
      "Requirement already satisfied: protobuf!=4.21.0,!=4.21.1,!=4.21.2,!=4.21.3,!=4.21.4,!=4.21.5,<5.0.0dev,>=3.20.3 in /home/lcc_rn_08/.conda/envs/ml_gpu/lib/python3.10/site-packages (from tensorflow<3,>=2.13.0->tensorflowjs) (4.21.12)\n",
      "Requirement already satisfied: setuptools in /home/lcc_rn_08/.conda/envs/ml_gpu/lib/python3.10/site-packages (from tensorflow<3,>=2.13.0->tensorflowjs) (80.9.0)\n",
      "Requirement already satisfied: termcolor>=1.1.0 in /home/lcc_rn_08/.conda/envs/ml_gpu/lib/python3.10/site-packages (from tensorflow<3,>=2.13.0->tensorflowjs) (3.1.0)\n",
      "Requirement already satisfied: typing-extensions>=3.6.6 in /home/lcc_rn_08/.conda/envs/ml_gpu/lib/python3.10/site-packages (from tensorflow<3,>=2.13.0->tensorflowjs) (4.15.0)\n",
      "Requirement already satisfied: wrapt<1.15,>=1.11.0 in /home/lcc_rn_08/.conda/envs/ml_gpu/lib/python3.10/site-packages (from tensorflow<3,>=2.13.0->tensorflowjs) (1.14.2)\n",
      "Requirement already satisfied: tensorflow-io-gcs-filesystem>=0.23.1 in /home/lcc_rn_08/.conda/envs/ml_gpu/lib/python3.10/site-packages (from tensorflow<3,>=2.13.0->tensorflowjs) (0.37.1)\n",
      "Requirement already satisfied: grpcio<2.0,>=1.24.3 in /home/lcc_rn_08/.conda/envs/ml_gpu/lib/python3.10/site-packages (from tensorflow<3,>=2.13.0->tensorflowjs) (1.75.1)\n",
      "Requirement already satisfied: tensorboard<2.16,>=2.15 in /home/lcc_rn_08/.conda/envs/ml_gpu/lib/python3.10/site-packages (from tensorflow<3,>=2.13.0->tensorflowjs) (2.15.2)\n",
      "Requirement already satisfied: tensorflow-estimator<2.16,>=2.15.0 in /home/lcc_rn_08/.conda/envs/ml_gpu/lib/python3.10/site-packages (from tensorflow<3,>=2.13.0->tensorflowjs) (2.15.0)\n",
      "Requirement already satisfied: keras<2.16,>=2.15.0 in /home/lcc_rn_08/.conda/envs/ml_gpu/lib/python3.10/site-packages (from tensorflow<3,>=2.13.0->tensorflowjs) (2.15.0)\n",
      "Requirement already satisfied: google-auth<3,>=1.6.3 in /home/lcc_rn_08/.conda/envs/ml_gpu/lib/python3.10/site-packages (from tensorboard<2.16,>=2.15->tensorflow<3,>=2.13.0->tensorflowjs) (2.41.1)\n",
      "Requirement already satisfied: google-auth-oauthlib<2,>=0.5 in /home/lcc_rn_08/.conda/envs/ml_gpu/lib/python3.10/site-packages (from tensorboard<2.16,>=2.15->tensorflow<3,>=2.13.0->tensorflowjs) (1.2.2)\n",
      "Requirement already satisfied: markdown>=2.6.8 in /home/lcc_rn_08/.conda/envs/ml_gpu/lib/python3.10/site-packages (from tensorboard<2.16,>=2.15->tensorflow<3,>=2.13.0->tensorflowjs) (3.9)\n",
      "Requirement already satisfied: requests<3,>=2.21.0 in /home/lcc_rn_08/.conda/envs/ml_gpu/lib/python3.10/site-packages (from tensorboard<2.16,>=2.15->tensorflow<3,>=2.13.0->tensorflowjs) (2.32.5)\n",
      "Requirement already satisfied: tensorboard-data-server<0.8.0,>=0.7.0 in /home/lcc_rn_08/.conda/envs/ml_gpu/lib/python3.10/site-packages (from tensorboard<2.16,>=2.15->tensorflow<3,>=2.13.0->tensorflowjs) (0.7.2)\n",
      "Requirement already satisfied: werkzeug>=1.0.1 in /home/lcc_rn_08/.conda/envs/ml_gpu/lib/python3.10/site-packages (from tensorboard<2.16,>=2.15->tensorflow<3,>=2.13.0->tensorflowjs) (3.1.3)\n",
      "Requirement already satisfied: cachetools<7.0,>=2.0.0 in /home/lcc_rn_08/.conda/envs/ml_gpu/lib/python3.10/site-packages (from google-auth<3,>=1.6.3->tensorboard<2.16,>=2.15->tensorflow<3,>=2.13.0->tensorflowjs) (6.2.0)\n",
      "Requirement already satisfied: pyasn1-modules>=0.2.1 in /home/lcc_rn_08/.conda/envs/ml_gpu/lib/python3.10/site-packages (from google-auth<3,>=1.6.3->tensorboard<2.16,>=2.15->tensorflow<3,>=2.13.0->tensorflowjs) (0.4.2)\n",
      "Requirement already satisfied: rsa<5,>=3.1.4 in /home/lcc_rn_08/.conda/envs/ml_gpu/lib/python3.10/site-packages (from google-auth<3,>=1.6.3->tensorboard<2.16,>=2.15->tensorflow<3,>=2.13.0->tensorflowjs) (4.9.1)\n",
      "Requirement already satisfied: requests-oauthlib>=0.7.0 in /home/lcc_rn_08/.conda/envs/ml_gpu/lib/python3.10/site-packages (from google-auth-oauthlib<2,>=0.5->tensorboard<2.16,>=2.15->tensorflow<3,>=2.13.0->tensorflowjs) (2.0.0)\n",
      "Requirement already satisfied: charset_normalizer<4,>=2 in /home/lcc_rn_08/.conda/envs/ml_gpu/lib/python3.10/site-packages (from requests<3,>=2.21.0->tensorboard<2.16,>=2.15->tensorflow<3,>=2.13.0->tensorflowjs) (3.4.3)\n",
      "Requirement already satisfied: idna<4,>=2.5 in /home/lcc_rn_08/.conda/envs/ml_gpu/lib/python3.10/site-packages (from requests<3,>=2.21.0->tensorboard<2.16,>=2.15->tensorflow<3,>=2.13.0->tensorflowjs) (3.10)\n",
      "Requirement already satisfied: urllib3<3,>=1.21.1 in /home/lcc_rn_08/.conda/envs/ml_gpu/lib/python3.10/site-packages (from requests<3,>=2.21.0->tensorboard<2.16,>=2.15->tensorflow<3,>=2.13.0->tensorflowjs) (2.5.0)\n",
      "Requirement already satisfied: certifi>=2017.4.17 in /home/lcc_rn_08/.conda/envs/ml_gpu/lib/python3.10/site-packages (from requests<3,>=2.21.0->tensorboard<2.16,>=2.15->tensorflow<3,>=2.13.0->tensorflowjs) (2025.10.5)\n",
      "Requirement already satisfied: pyasn1>=0.1.3 in /home/lcc_rn_08/.conda/envs/ml_gpu/lib/python3.10/site-packages (from rsa<5,>=3.1.4->google-auth<3,>=1.6.3->tensorboard<2.16,>=2.15->tensorflow<3,>=2.13.0->tensorflowjs) (0.6.1)\n",
      "Requirement already satisfied: wheel<1.0,>=0.23.0 in /home/lcc_rn_08/.conda/envs/ml_gpu/lib/python3.10/site-packages (from astunparse>=1.6.0->tensorflow<3,>=2.13.0->tensorflowjs) (0.45.1)\n",
      "Collecting msgpack (from flax>=0.7.2->tensorflowjs)\n",
      "  Downloading msgpack-1.1.2-cp310-cp310-manylinux2014_x86_64.manylinux_2_17_x86_64.manylinux_2_28_x86_64.whl.metadata (8.1 kB)\n",
      "Collecting optax (from flax>=0.7.2->tensorflowjs)\n",
      "  Downloading optax-0.2.6-py3-none-any.whl.metadata (7.6 kB)\n",
      "Collecting orbax-checkpoint (from flax>=0.7.2->tensorflowjs)\n",
      "  Downloading orbax_checkpoint-0.11.25-py3-none-any.whl.metadata (2.3 kB)\n",
      "Collecting tensorstore (from flax>=0.7.2->tensorflowjs)\n",
      "  Downloading tensorstore-0.1.78-cp310-cp310-manylinux_2_27_x86_64.manylinux_2_28_x86_64.whl.metadata (21 kB)\n",
      "Requirement already satisfied: rich>=11.1 in /home/lcc_rn_08/.conda/envs/ml_gpu/lib/python3.10/site-packages (from flax>=0.7.2->tensorflowjs) (14.2.0)\n",
      "Requirement already satisfied: PyYAML>=5.4.1 in /home/lcc_rn_08/.conda/envs/ml_gpu/lib/python3.10/site-packages (from flax>=0.7.2->tensorflowjs) (6.0.2)\n",
      "Collecting treescope>=0.1.7 (from flax>=0.7.2->tensorflowjs)\n",
      "  Downloading treescope-0.1.10-py3-none-any.whl.metadata (6.6 kB)\n",
      "INFO: pip is looking at multiple versions of jax to determine which version is compatible with other requirements. This could take a while.\n",
      "Collecting jax>=0.4.13 (from tensorflowjs)\n",
      "  Downloading jax-0.6.1-py3-none-any.whl.metadata (13 kB)\n",
      "Collecting jaxlib>=0.4.13 (from tensorflowjs)\n",
      "  Downloading jaxlib-0.6.1-cp310-cp310-manylinux2014_x86_64.whl.metadata (1.2 kB)\n",
      "Collecting jax>=0.4.13 (from tensorflowjs)\n",
      "  Downloading jax-0.6.0-py3-none-any.whl.metadata (22 kB)\n",
      "Collecting jaxlib>=0.4.13 (from tensorflowjs)\n",
      "  Downloading jaxlib-0.6.0-cp310-cp310-manylinux2014_x86_64.whl.metadata (1.2 kB)\n",
      "Collecting flax>=0.7.2 (from tensorflowjs)\n",
      "  Downloading flax-0.10.6-py3-none-any.whl.metadata (11 kB)\n",
      "Collecting jax>=0.4.13 (from tensorflowjs)\n",
      "  Downloading jax-0.5.3-py3-none-any.whl.metadata (22 kB)\n",
      "Collecting jaxlib>=0.4.13 (from tensorflowjs)\n",
      "  Downloading jaxlib-0.5.3-cp310-cp310-manylinux2014_x86_64.whl.metadata (1.2 kB)\n",
      "Collecting jax>=0.4.13 (from tensorflowjs)\n",
      "  Downloading jax-0.5.2-py3-none-any.whl.metadata (22 kB)\n",
      "Collecting jaxlib>=0.4.13 (from tensorflowjs)\n",
      "  Downloading jaxlib-0.5.1-cp310-cp310-manylinux2014_x86_64.whl.metadata (978 bytes)\n",
      "INFO: pip is still looking at multiple versions of jax to determine which version is compatible with other requirements. This could take a while.\n",
      "Collecting jax>=0.4.13 (from tensorflowjs)\n",
      "  Downloading jax-0.5.1-py3-none-any.whl.metadata (22 kB)\n",
      "  Downloading jax-0.5.0-py3-none-any.whl.metadata (22 kB)\n",
      "Collecting jaxlib>=0.4.13 (from tensorflowjs)\n",
      "  Downloading jaxlib-0.5.0-cp310-cp310-manylinux2014_x86_64.whl.metadata (978 bytes)\n",
      "Collecting jax>=0.4.13 (from tensorflowjs)\n",
      "  Downloading jax-0.4.38-py3-none-any.whl.metadata (22 kB)\n",
      "Collecting jaxlib>=0.4.13 (from tensorflowjs)\n",
      "  Downloading jaxlib-0.4.38-cp310-cp310-manylinux2014_x86_64.whl.metadata (1.0 kB)\n",
      "Collecting jax>=0.4.13 (from tensorflowjs)\n",
      "  Downloading jax-0.4.37-py3-none-any.whl.metadata (22 kB)\n",
      "Collecting jaxlib>=0.4.13 (from tensorflowjs)\n",
      "  Downloading jaxlib-0.4.36-cp310-cp310-manylinux2014_x86_64.whl.metadata (1.0 kB)\n",
      "Collecting jax>=0.4.13 (from tensorflowjs)\n",
      "  Downloading jax-0.4.36-py3-none-any.whl.metadata (22 kB)\n",
      "INFO: This is taking longer than usual. You might need to provide the dependency resolver with stricter constraints to reduce runtime. See https://pip.pypa.io/warnings/backtracking for guidance. If you want to abort this run, press Ctrl + C.\n",
      "  Downloading jax-0.4.35-py3-none-any.whl.metadata (22 kB)\n",
      "Collecting jaxlib>=0.4.13 (from tensorflowjs)\n",
      "  Downloading jaxlib-0.4.35-cp310-cp310-manylinux2014_x86_64.whl.metadata (983 bytes)\n",
      "Collecting jax>=0.4.13 (from tensorflowjs)\n",
      "  Downloading jax-0.4.34-py3-none-any.whl.metadata (22 kB)\n",
      "Collecting jaxlib>=0.4.13 (from tensorflowjs)\n",
      "  Downloading jaxlib-0.4.34-cp310-cp310-manylinux2014_x86_64.whl.metadata (983 bytes)\n",
      "Requirement already satisfied: scipy>=1.10 in /home/lcc_rn_08/.conda/envs/ml_gpu/lib/python3.10/site-packages (from jax>=0.4.13->tensorflowjs) (1.15.3)\n",
      "Collecting flax>=0.7.2 (from tensorflowjs)\n",
      "  Downloading flax-0.10.5-py3-none-any.whl.metadata (11 kB)\n",
      "  Downloading flax-0.10.4-py3-none-any.whl.metadata (11 kB)\n",
      "Requirement already satisfied: oauthlib>=3.0.0 in /home/lcc_rn_08/.conda/envs/ml_gpu/lib/python3.10/site-packages (from requests-oauthlib>=0.7.0->google-auth-oauthlib<2,>=0.5->tensorboard<2.16,>=2.15->tensorflow<3,>=2.13.0->tensorflowjs) (3.3.1)\n",
      "Requirement already satisfied: markdown-it-py>=2.2.0 in /home/lcc_rn_08/.conda/envs/ml_gpu/lib/python3.10/site-packages (from rich>=11.1->flax>=0.7.2->tensorflowjs) (4.0.0)\n",
      "Requirement already satisfied: pygments<3.0.0,>=2.13.0 in /home/lcc_rn_08/.conda/envs/ml_gpu/lib/python3.10/site-packages (from rich>=11.1->flax>=0.7.2->tensorflowjs) (2.19.2)\n",
      "Requirement already satisfied: mdurl~=0.1 in /home/lcc_rn_08/.conda/envs/ml_gpu/lib/python3.10/site-packages (from markdown-it-py>=2.2.0->rich>=11.1->flax>=0.7.2->tensorflowjs) (0.1.2)\n",
      "Requirement already satisfied: pandas in /home/lcc_rn_08/.conda/envs/ml_gpu/lib/python3.10/site-packages (from tensorflow-decision-forests>=1.5.0->tensorflowjs) (2.3.2)\n",
      "Collecting tensorflow<3,>=2.13.0 (from tensorflowjs)\n",
      "  Downloading tensorflow-2.19.0-cp310-cp310-manylinux_2_17_x86_64.manylinux2014_x86_64.whl.metadata (4.1 kB)\n",
      "Collecting wurlitzer (from tensorflow-decision-forests>=1.5.0->tensorflowjs)\n",
      "  Downloading wurlitzer-3.1.1-py3-none-any.whl.metadata (2.5 kB)\n",
      "Collecting ydf>=0.11.0 (from tensorflow-decision-forests>=1.5.0->tensorflowjs)\n",
      "  Downloading ydf-0.13.0-cp310-cp310-manylinux_2_17_x86_64.manylinux2014_x86_64.whl.metadata (3.6 kB)\n",
      "Collecting tensorboard~=2.19.0 (from tensorflow<3,>=2.13.0->tensorflowjs)\n",
      "  Downloading tensorboard-2.19.0-py3-none-any.whl.metadata (1.8 kB)\n",
      "Collecting keras>=3.5.0 (from tensorflow<3,>=2.13.0->tensorflowjs)\n",
      "  Using cached keras-3.11.3-py3-none-any.whl.metadata (5.9 kB)\n",
      "Collecting ml-dtypes>=0.2.0 (from jax>=0.4.13->tensorflowjs)\n",
      "  Using cached ml_dtypes-0.5.3-cp310-cp310-manylinux_2_27_x86_64.manylinux_2_28_x86_64.whl.metadata (8.9 kB)\n",
      "INFO: pip is looking at multiple versions of tf-keras to determine which version is compatible with other requirements. This could take a while.\n",
      "Collecting tf-keras>=2.13.0 (from tensorflowjs)\n",
      "  Downloading tf_keras-2.19.0-py3-none-any.whl.metadata (1.8 kB)\n",
      "Requirement already satisfied: namex in /home/lcc_rn_08/.conda/envs/ml_gpu/lib/python3.10/site-packages (from keras>=3.5.0->tensorflow<3,>=2.13.0->tensorflowjs) (0.1.0)\n",
      "Requirement already satisfied: optree in /home/lcc_rn_08/.conda/envs/ml_gpu/lib/python3.10/site-packages (from keras>=3.5.0->tensorflow<3,>=2.13.0->tensorflowjs) (0.17.0)\n",
      "Requirement already satisfied: MarkupSafe>=2.1.1 in /home/lcc_rn_08/.conda/envs/ml_gpu/lib/python3.10/site-packages (from werkzeug>=1.0.1->tensorboard<2.16,>=2.15->tensorflow<3,>=2.13.0->tensorflowjs) (3.0.3)\n",
      "Collecting protobuf!=4.21.0,!=4.21.1,!=4.21.2,!=4.21.3,!=4.21.4,!=4.21.5,<6.0.0dev,>=3.20.3 (from tensorflow<3,>=2.13.0->tensorflowjs)\n",
      "  Downloading protobuf-5.29.5-cp38-abi3-manylinux2014_x86_64.whl.metadata (592 bytes)\n",
      "Collecting chex>=0.1.87 (from optax->flax>=0.7.2->tensorflowjs)\n",
      "  Downloading chex-0.1.90-py3-none-any.whl.metadata (18 kB)\n",
      "INFO: pip is looking at multiple versions of optax to determine which version is compatible with other requirements. This could take a while.\n",
      "Collecting optax (from flax>=0.7.2->tensorflowjs)\n",
      "  Downloading optax-0.2.5-py3-none-any.whl.metadata (7.5 kB)\n",
      "Collecting toolz>=0.9.0 (from chex>=0.1.87->optax->flax>=0.7.2->tensorflowjs)\n",
      "  Downloading toolz-1.0.0-py3-none-any.whl.metadata (5.1 kB)\n",
      "Requirement already satisfied: etils[epath,epy] in /home/lcc_rn_08/.conda/envs/ml_gpu/lib/python3.10/site-packages (from orbax-checkpoint->flax>=0.7.2->tensorflowjs) (1.13.0)\n",
      "Requirement already satisfied: nest_asyncio in /home/lcc_rn_08/.conda/envs/ml_gpu/lib/python3.10/site-packages (from orbax-checkpoint->flax>=0.7.2->tensorflowjs) (1.6.0)\n",
      "Collecting aiofiles (from orbax-checkpoint->flax>=0.7.2->tensorflowjs)\n",
      "  Downloading aiofiles-25.1.0-py3-none-any.whl.metadata (6.3 kB)\n",
      "Collecting humanize (from orbax-checkpoint->flax>=0.7.2->tensorflowjs)\n",
      "  Downloading humanize-4.13.0-py3-none-any.whl.metadata (7.8 kB)\n",
      "Collecting simplejson>=3.16.0 (from orbax-checkpoint->flax>=0.7.2->tensorflowjs)\n",
      "  Downloading simplejson-3.20.2-cp310-cp310-manylinux_2_5_x86_64.manylinux1_x86_64.manylinux_2_17_x86_64.manylinux2014_x86_64.whl.metadata (3.2 kB)\n",
      "Requirement already satisfied: fsspec in /home/lcc_rn_08/.conda/envs/ml_gpu/lib/python3.10/site-packages (from etils[epath,epy]->orbax-checkpoint->flax>=0.7.2->tensorflowjs) (2025.9.0)\n",
      "Requirement already satisfied: zipp in /home/lcc_rn_08/.conda/envs/ml_gpu/lib/python3.10/site-packages (from etils[epath,epy]->orbax-checkpoint->flax>=0.7.2->tensorflowjs) (3.23.0)\n",
      "Requirement already satisfied: python-dateutil>=2.8.2 in /home/lcc_rn_08/.conda/envs/ml_gpu/lib/python3.10/site-packages (from pandas->tensorflow-decision-forests>=1.5.0->tensorflowjs) (2.9.0.post0)\n",
      "Requirement already satisfied: pytz>=2020.1 in /home/lcc_rn_08/.conda/envs/ml_gpu/lib/python3.10/site-packages (from pandas->tensorflow-decision-forests>=1.5.0->tensorflowjs) (2025.2)\n",
      "Requirement already satisfied: tzdata>=2022.7 in /home/lcc_rn_08/.conda/envs/ml_gpu/lib/python3.10/site-packages (from pandas->tensorflow-decision-forests>=1.5.0->tensorflowjs) (2025.2)\n",
      "Downloading tensorflowjs-4.22.0-py3-none-any.whl (89 kB)\n",
      "Downloading packaging-23.2-py3-none-any.whl (53 kB)\n",
      "Downloading flax-0.10.4-py3-none-any.whl (451 kB)\n",
      "Downloading tensorflow_decision_forests-1.12.0-cp310-cp310-manylinux_2_17_x86_64.manylinux2014_x86_64.whl (16.1 MB)\n",
      "\u001b[2K   \u001b[90m━━━━━━━━━━━━━━━━━━━━━━━━━━━━━━━━━━━━━━━━\u001b[0m \u001b[32m16.1/16.1 MB\u001b[0m \u001b[31m36.4 MB/s\u001b[0m  \u001b[33m0:00:00\u001b[0mm0:00:01\u001b[0m00:01\u001b[0m\n",
      "\u001b[?25hDownloading tensorflow-2.19.0-cp310-cp310-manylinux_2_17_x86_64.manylinux2014_x86_64.whl (644.8 MB)\n",
      "\u001b[2K   \u001b[90m━━━━━━━━━━━━━━━━━━━━━━━━━━━━━━━━━━━━━━━━\u001b[0m \u001b[32m644.8/644.8 MB\u001b[0m \u001b[31m38.8 MB/s\u001b[0m  \u001b[33m0:00:10\u001b[0mm0:00:01\u001b[0m00:01\u001b[0m\n",
      "\u001b[?25hUsing cached ml_dtypes-0.5.3-cp310-cp310-manylinux_2_27_x86_64.manylinux_2_28_x86_64.whl (4.9 MB)\n",
      "Downloading tensorboard-2.19.0-py3-none-any.whl (5.5 MB)\n",
      "\u001b[2K   \u001b[90m━━━━━━━━━━━━━━━━━━━━━━━━━━━━━━━━━━━━━━━━\u001b[0m \u001b[32m5.5/5.5 MB\u001b[0m \u001b[31m16.4 MB/s\u001b[0m  \u001b[33m0:00:00\u001b[0m eta \u001b[36m0:00:01\u001b[0m\n",
      "\u001b[?25hDownloading tf_keras-2.19.0-py3-none-any.whl (1.7 MB)\n",
      "\u001b[2K   \u001b[90m━━━━━━━━━━━━━━━━━━━━━━━━━━━━━━━━━━━━━━━━\u001b[0m \u001b[32m1.7/1.7 MB\u001b[0m \u001b[31m2.2 MB/s\u001b[0m  \u001b[33m0:00:00\u001b[0m0m eta \u001b[36m0:00:01\u001b[0m\n",
      "\u001b[?25hUsing cached keras-3.11.3-py3-none-any.whl (1.4 MB)\n",
      "Downloading tensorflow_hub-0.16.1-py2.py3-none-any.whl (30 kB)\n",
      "Downloading treescope-0.1.10-py3-none-any.whl (182 kB)\n",
      "Downloading ydf-0.13.0-cp310-cp310-manylinux_2_17_x86_64.manylinux2014_x86_64.whl (12.1 MB)\n",
      "\u001b[2K   \u001b[90m━━━━━━━━━━━━━━━━━━━━━━━━━━━━━━━━━━━━━━━━\u001b[0m \u001b[32m12.1/12.1 MB\u001b[0m \u001b[31m29.3 MB/s\u001b[0m  \u001b[33m0:00:00\u001b[0mm0:00:01\u001b[0m\n",
      "\u001b[?25hDownloading protobuf-5.29.5-cp38-abi3-manylinux2014_x86_64.whl (319 kB)\n",
      "Downloading msgpack-1.1.2-cp310-cp310-manylinux2014_x86_64.manylinux_2_17_x86_64.manylinux_2_28_x86_64.whl (406 kB)\n",
      "Downloading optax-0.2.5-py3-none-any.whl (354 kB)\n",
      "Downloading chex-0.1.90-py3-none-any.whl (101 kB)\n",
      "Downloading toolz-1.0.0-py3-none-any.whl (56 kB)\n",
      "Downloading orbax_checkpoint-0.11.25-py3-none-any.whl (563 kB)\n",
      "\u001b[2K   \u001b[90m━━━━━━━━━━━━━━━━━━━━━━━━━━━━━━━━━━━━━━━━\u001b[0m \u001b[32m563.1/563.1 kB\u001b[0m \u001b[31m14.6 MB/s\u001b[0m  \u001b[33m0:00:00\u001b[0m\n",
      "\u001b[?25hDownloading jax-0.6.2-py3-none-any.whl (2.7 MB)\n",
      "\u001b[2K   \u001b[90m━━━━━━━━━━━━━━━━━━━━━━━━━━━━━━━━━━━━━━━━\u001b[0m \u001b[32m2.7/2.7 MB\u001b[0m \u001b[31m63.8 MB/s\u001b[0m  \u001b[33m0:00:00\u001b[0m\n",
      "\u001b[?25hDownloading jaxlib-0.6.2-cp310-cp310-manylinux2014_x86_64.whl (89.9 MB)\n",
      "\u001b[2K   \u001b[90m━━━━━━━━━━━━━━━━━━━━━━━━━━━━━━━━━━━━━━━━\u001b[0m \u001b[32m89.9/89.9 MB\u001b[0m \u001b[31m60.2 MB/s\u001b[0m  \u001b[33m0:00:01\u001b[0mm0:00:01\u001b[0m00:01\u001b[0m\n",
      "\u001b[?25hDownloading simplejson-3.20.2-cp310-cp310-manylinux_2_5_x86_64.manylinux1_x86_64.manylinux_2_17_x86_64.manylinux2014_x86_64.whl (138 kB)\n",
      "Downloading tensorstore-0.1.78-cp310-cp310-manylinux_2_27_x86_64.manylinux_2_28_x86_64.whl (20.0 MB)\n",
      "\u001b[2K   \u001b[90m━━━━━━━━━━━━━━━━━━━━━━━━━━━━━━━━━━━━━━━━\u001b[0m \u001b[32m20.0/20.0 MB\u001b[0m \u001b[31m59.8 MB/s\u001b[0m  \u001b[33m0:00:00\u001b[0m eta \u001b[36m0:00:01\u001b[0m\n",
      "\u001b[?25hDownloading aiofiles-25.1.0-py3-none-any.whl (14 kB)\n",
      "Downloading humanize-4.13.0-py3-none-any.whl (128 kB)\n",
      "Downloading wurlitzer-3.1.1-py3-none-any.whl (8.6 kB)\n",
      "Installing collected packages: wurlitzer, treescope, toolz, simplejson, protobuf, packaging, msgpack, ml-dtypes, humanize, aiofiles, ydf, tensorstore, tensorboard, jaxlib, keras, jax, tensorflow, orbax-checkpoint, chex, tf-keras, optax, tensorflow-hub, tensorflow-decision-forests, flax, tensorflowjs\n",
      "\u001b[2K  Attempting uninstall: protobuf━━━━━━━━━━━━━━━━━━━━━━━━━━━━━━━━━━\u001b[0m \u001b[32m 3/25\u001b[0m [simplejson]\n",
      "\u001b[2K    Found existing installation: protobuf 4.21.12━━━━━━━━━━━━━\u001b[0m \u001b[32m 3/25\u001b[0m [simplejson]\n",
      "\u001b[2K    Uninstalling protobuf-4.21.12:━━━━━━━━━━━━━━━━━━━━━━━━━━━━\u001b[0m \u001b[32m 3/25\u001b[0m [simplejson]\n",
      "\u001b[2K      Successfully uninstalled protobuf-4.21.12━━━━━━━━━━━━━━━\u001b[0m \u001b[32m 3/25\u001b[0m [simplejson]\n",
      "\u001b[2K  Attempting uninstall: packaging━━━━━━━━━━━━━━━━━━━━━━━━━━━━━\u001b[0m \u001b[32m 3/25\u001b[0m [simplejson]\n",
      "\u001b[2K    Found existing installation: packaging 25.0━━━━━━━━━━━━━━━\u001b[0m \u001b[32m 3/25\u001b[0m [simplejson]\n",
      "\u001b[2K    Uninstalling packaging-25.0:━━━━━━━━━━━━━━━━━━━━━━━━━━━━━━\u001b[0m \u001b[32m 3/25\u001b[0m [simplejson]\n",
      "\u001b[2K      Successfully uninstalled packaging-25.0━━━━━━━━━━━━━━━━━\u001b[0m \u001b[32m 3/25\u001b[0m [simplejson]\n",
      "\u001b[2K  Attempting uninstall: ml-dtypes90m━━━━━━━━━━━━━━━━━━━━━━━━━━━━━━\u001b[0m \u001b[32m 6/25\u001b[0m [msgpack]\n",
      "\u001b[2K    Found existing installation: ml-dtypes 0.2.0━━━━━━━━━━━━━━\u001b[0m \u001b[32m 6/25\u001b[0m [msgpack]\n",
      "\u001b[2K    Uninstalling ml-dtypes-0.2.0:━━━━━━━━━━━━━━━━━━━━━━━━━━━━━\u001b[0m \u001b[32m 6/25\u001b[0m [msgpack]\n",
      "\u001b[2K      Successfully uninstalled ml-dtypes-0.2.0━━━━━━━━━━━━━━━━\u001b[0m \u001b[32m 6/25\u001b[0m [msgpack]\n",
      "\u001b[2K  Attempting uninstall: tensorboard\u001b[0m\u001b[90m━━━━━━━━━━━━━━━━━━━━━━\u001b[0m \u001b[32m11/25\u001b[0m [tensorstore]\n",
      "\u001b[2K    Found existing installation: tensorboard 2.15.2━━━━━━━━━━━\u001b[0m \u001b[32m11/25\u001b[0m [tensorstore]\n",
      "\u001b[2K    Uninstalling tensorboard-2.15.2:[90m━━━━━━━━━━━━━━━━━━━━━━\u001b[0m \u001b[32m11/25\u001b[0m [tensorstore]\n",
      "\u001b[2K      Successfully uninstalled tensorboard-2.15.2━━━━━━━━━━━━━\u001b[0m \u001b[32m11/25\u001b[0m [tensorstore]\n",
      "\u001b[2K  Attempting uninstall: keras[0m\u001b[91m╸\u001b[0m\u001b[90m━━━━━━━━━━━━━━━━━━━\u001b[0m \u001b[32m13/25\u001b[0m [jaxlib]oard]\n",
      "\u001b[2K    Found existing installation: keras 2.15.0━━━━━━━━━━━━━━━━━\u001b[0m \u001b[32m13/25\u001b[0m [jaxlib]\n",
      "\u001b[2K    Uninstalling keras-2.15.0:\u001b[0m\u001b[90m╺\u001b[0m\u001b[90m━━━━━━━━━━━━━━━━━\u001b[0m \u001b[32m14/25\u001b[0m [keras]\n",
      "\u001b[2K      Successfully uninstalled keras-2.15.00m━━━━━━━━━━━━━━━━━\u001b[0m \u001b[32m14/25\u001b[0m [keras]\n",
      "\u001b[2K  Attempting uninstall: tensorflow0m\u001b[90m╺\u001b[0m\u001b[90m━━━━━━━━━━━━━━━\u001b[0m \u001b[32m15/25\u001b[0m [jax]s]\n",
      "\u001b[2K    Found existing installation: tensorflow 2.15.0━━━━━━━━━━━━\u001b[0m \u001b[32m15/25\u001b[0m [jax]\n",
      "\u001b[2K    Uninstalling tensorflow-2.15.0:0m\u001b[91m╸\u001b[0m\u001b[90m━━━━━━━━━━━━━━\u001b[0m \u001b[32m16/25\u001b[0m [tensorflow]\n",
      "\u001b[2K      Successfully uninstalled tensorflow-2.15.0━━━━━━━━━━━━━━\u001b[0m \u001b[32m16/25\u001b[0m [tensorflow]\n",
      "\u001b[2K   \u001b[90m━━━━━━━━━━━━━━━━━━━━━━━━━━━━━━━━━━━━━━━━\u001b[0m \u001b[32m25/25\u001b[0m [tensorflowjs][0m [flax]rflow-decision-forests]\n",
      "\u001b[1A\u001b[2K\u001b[31mERROR: pip's dependency resolver does not currently take into account all the packages that are installed. This behaviour is the source of the following dependency conflicts.\n",
      "tensorflow-metadata 1.17.2 requires protobuf<4.22,>=4.21.6; python_version < \"3.11\", but you have protobuf 5.29.5 which is incompatible.\u001b[0m\u001b[31m\n",
      "\u001b[0mSuccessfully installed aiofiles-25.1.0 chex-0.1.90 flax-0.10.4 humanize-4.13.0 jax-0.6.2 jaxlib-0.6.2 keras-3.11.3 ml-dtypes-0.5.3 msgpack-1.1.2 optax-0.2.5 orbax-checkpoint-0.11.25 packaging-23.2 protobuf-5.29.5 simplejson-3.20.2 tensorboard-2.19.0 tensorflow-2.19.0 tensorflow-decision-forests-1.12.0 tensorflow-hub-0.16.1 tensorflowjs-4.22.0 tensorstore-0.1.78 tf-keras-2.19.0 toolz-1.0.0 treescope-0.1.10 wurlitzer-3.1.1 ydf-0.13.0\n",
      "Note: you may need to restart the kernel to use updated packages.\n"
     ]
    }
   ],
   "source": [
    "%pip install tensorflowjs"
   ]
  },
  {
   "cell_type": "code",
   "execution_count": 20,
   "id": "88b61a6d",
   "metadata": {},
   "outputs": [
    {
     "name": "stdout",
     "output_type": "stream",
     "text": [
      "2025-10-12 12:08:25.514413: I tensorflow/core/util/port.cc:153] oneDNN custom operations are on. You may see slightly different numerical results due to floating-point round-off errors from different computation orders. To turn them off, set the environment variable `TF_ENABLE_ONEDNN_OPTS=0`.\n",
      "2025-10-12 12:08:25.515010: I external/local_xla/xla/tsl/cuda/cudart_stub.cc:32] Could not find cuda drivers on your machine, GPU will not be used.\n",
      "2025-10-12 12:08:25.518160: I external/local_xla/xla/tsl/cuda/cudart_stub.cc:32] Could not find cuda drivers on your machine, GPU will not be used.\n",
      "2025-10-12 12:08:25.526124: E external/local_xla/xla/stream_executor/cuda/cuda_fft.cc:467] Unable to register cuFFT factory: Attempting to register factory for plugin cuFFT when one has already been registered\n",
      "WARNING: All log messages before absl::InitializeLog() is called are written to STDERR\n",
      "E0000 00:00:1760285305.538215 2371867 cuda_dnn.cc:8579] Unable to register cuDNN factory: Attempting to register factory for plugin cuDNN when one has already been registered\n",
      "E0000 00:00:1760285305.541749 2371867 cuda_blas.cc:1407] Unable to register cuBLAS factory: Attempting to register factory for plugin cuBLAS when one has already been registered\n",
      "W0000 00:00:1760285305.552322 2371867 computation_placer.cc:177] computation placer already registered. Please check linkage and avoid linking the same target more than once.\n",
      "W0000 00:00:1760285305.552352 2371867 computation_placer.cc:177] computation placer already registered. Please check linkage and avoid linking the same target more than once.\n",
      "W0000 00:00:1760285305.552355 2371867 computation_placer.cc:177] computation placer already registered. Please check linkage and avoid linking the same target more than once.\n",
      "W0000 00:00:1760285305.552358 2371867 computation_placer.cc:177] computation placer already registered. Please check linkage and avoid linking the same target more than once.\n",
      "2025-10-12 12:08:25.555442: I tensorflow/core/platform/cpu_feature_guard.cc:210] This TensorFlow binary is optimized to use available CPU instructions in performance-critical operations.\n",
      "To enable the following instructions: AVX2 AVX512F AVX512_VNNI AVX512_BF16 FMA, in other operations, rebuild TensorFlow with the appropriate compiler flags.\n",
      "\u001b[32m🌲 Try \u001b[0m\u001b[34mhttps://ydf.readthedocs.io\u001b[0m\u001b[32m, the successor of TensorFlow Decision Forests with more features and faster training!\u001b[0m\n",
      "/home/lcc_rn_08/.conda/envs/ml_gpu/lib/python3.10/site-packages/tensorflow_hub/__init__.py:61: UserWarning: pkg_resources is deprecated as an API. See https://setuptools.pypa.io/en/latest/pkg_resources.html. The pkg_resources package is slated for removal as early as 2025-11-30. Refrain from using this package or pin to Setuptools<81.\n",
      "  from pkg_resources import parse_version\n"
     ]
    }
   ],
   "source": [
    "!tensorflowjs_converter --input_format=keras ./numeros_CNN.h5 ./output/"
   ]
  }
 ],
 "metadata": {
  "kernelspec": {
   "display_name": "Python 3",
   "language": "python",
   "name": "python3"
  },
  "language_info": {
   "codemirror_mode": {
    "name": "ipython",
    "version": 3
   },
   "file_extension": ".py",
   "mimetype": "text/x-python",
   "name": "python",
   "nbconvert_exporter": "python",
   "pygments_lexer": "ipython3",
   "version": "3.10.18"
  }
 },
 "nbformat": 4,
 "nbformat_minor": 5
}
