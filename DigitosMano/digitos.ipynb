{
 "cells": [
  {
   "cell_type": "code",
   "execution_count": 1,
   "id": "962e7756",
   "metadata": {},
   "outputs": [
    {
     "name": "stderr",
     "output_type": "stream",
     "text": [
      "2025-10-12 18:28:14.167076: I tensorflow/core/util/port.cc:113] oneDNN custom operations are on. You may see slightly different numerical results due to floating-point round-off errors from different computation orders. To turn them off, set the environment variable `TF_ENABLE_ONEDNN_OPTS=0`.\n",
      "2025-10-12 18:28:14.168908: I external/local_tsl/tsl/cuda/cudart_stub.cc:31] Could not find cuda drivers on your machine, GPU will not be used.\n",
      "2025-10-12 18:28:14.195855: E external/local_xla/xla/stream_executor/cuda/cuda_dnn.cc:9261] Unable to register cuDNN factory: Attempting to register factory for plugin cuDNN when one has already been registered\n",
      "2025-10-12 18:28:14.195882: E external/local_xla/xla/stream_executor/cuda/cuda_fft.cc:607] Unable to register cuFFT factory: Attempting to register factory for plugin cuFFT when one has already been registered\n",
      "2025-10-12 18:28:14.196930: E external/local_xla/xla/stream_executor/cuda/cuda_blas.cc:1515] Unable to register cuBLAS factory: Attempting to register factory for plugin cuBLAS when one has already been registered\n",
      "2025-10-12 18:28:14.202148: I external/local_tsl/tsl/cuda/cudart_stub.cc:31] Could not find cuda drivers on your machine, GPU will not be used.\n",
      "2025-10-12 18:28:14.202807: I tensorflow/core/platform/cpu_feature_guard.cc:182] This TensorFlow binary is optimized to use available CPU instructions in performance-critical operations.\n",
      "To enable the following instructions: AVX2 AVX512F AVX512_VNNI AVX512_BF16 FMA, in other operations, rebuild TensorFlow with the appropriate compiler flags.\n",
      "2025-10-12 18:28:14.710803: W tensorflow/compiler/tf2tensorrt/utils/py_utils.cc:38] TF-TRT Warning: Could not find TensorRT\n"
     ]
    }
   ],
   "source": [
    "# IMPORTANDO LIBRERIAS\n",
    "\n",
    "import tensorflow_datasets as tfds\n",
    "import math\n",
    "import tensorflow as tf"
   ]
  },
  {
   "cell_type": "code",
   "execution_count": 2,
   "id": "6a4932db",
   "metadata": {},
   "outputs": [],
   "source": [
    "# Cargando nuestro dataset\n",
    "data, metadata = tfds.load('mnist', as_supervised=True, with_info=True)"
   ]
  },
  {
   "cell_type": "code",
   "execution_count": 3,
   "id": "7040b697",
   "metadata": {},
   "outputs": [],
   "source": [
    "# Funcion para normalizar nuestro dataset\n",
    "def normalize(images, labels):\n",
    "  images = tf.cast(images, tf.float32)\n",
    "  images /= 255 #Aqui lo pasa de 0-255 a 0-1\n",
    "  return images, labels"
   ]
  },
  {
   "cell_type": "code",
   "execution_count": 4,
   "id": "9ba8dbac",
   "metadata": {},
   "outputs": [],
   "source": [
    "# Dividimos nuestro dataset\n",
    "train, test = data['train'], data['test']"
   ]
  },
  {
   "cell_type": "code",
   "execution_count": 5,
   "id": "d36d3eb2",
   "metadata": {},
   "outputs": [],
   "source": [
    "# Guardamos los valores posibles de clasificacion\n",
    "labels = metadata.features['label'].names"
   ]
  },
  {
   "cell_type": "code",
   "execution_count": 6,
   "id": "319e1507",
   "metadata": {},
   "outputs": [],
   "source": [
    "#Normalizar los datos de entrenamiento y pruebas con la funcion que hicimos\n",
    "train = train.map(normalize)\n",
    "test = test.map(normalize)"
   ]
  },
  {
   "cell_type": "code",
   "execution_count": 7,
   "id": "0b4020d3",
   "metadata": {},
   "outputs": [],
   "source": [
    "# Cargamos a memoria para mas rapidez de entrenamiento\n",
    "train = train.cache()\n",
    "test = test.cache()"
   ]
  },
  {
   "cell_type": "code",
   "execution_count": 8,
   "id": "50497ba7",
   "metadata": {},
   "outputs": [],
   "source": [
    "# Creamos el modelo\n",
    "import keras\n",
    "from keras import layers\n",
    "model = keras.Sequential([\n",
    "    layers.Input(shape=(28,28,1)),\n",
    "    layers.Conv2D(32, (3,3), activation='relu'),\n",
    "    layers.MaxPooling2D(2,2),\n",
    "    layers.Conv2D(64, (3,3), activation='relu'),\n",
    "    layers.MaxPooling2D(2,2),\n",
    "    layers.Conv2D(128, (3,3), activation='relu'),\n",
    "    layers.MaxPooling2D(2,2),\n",
    "    layers.Dropout(0.5),\n",
    "    layers.Flatten(),\n",
    "    layers.Dense(512, activation='relu'),\n",
    "    # 🔹 Usa 'softmax' simple, no tf.nn.softmax ni softmax_v2\n",
    "    layers.Dense(10, activation='softmax')\n",
    "])"
   ]
  },
  {
   "cell_type": "code",
   "execution_count": 9,
   "id": "d2f597fb",
   "metadata": {},
   "outputs": [],
   "source": [
    "# Compilamos el modelo\n",
    "model.compile(\n",
    "    optimizer='adam',\n",
    "    loss=tf.keras.losses.SparseCategoricalCrossentropy(),\n",
    "    metrics=['accuracy']\n",
    ")"
   ]
  },
  {
   "cell_type": "code",
   "execution_count": 10,
   "id": "ff675242",
   "metadata": {},
   "outputs": [],
   "source": [
    "#Los numeros de datos en entrenamiento y pruebas (60k y 10k)\n",
    "train_size = metadata.splits[\"train\"].num_examples\n",
    "test_size = metadata.splits[\"test\"].num_examples\n",
    "\n",
    "#El trabajo por lotes permite que entrenamientos con gran cantidad de datos se haga de manera mas eficiente\n",
    "BATCH_SIZE = 32"
   ]
  },
  {
   "cell_type": "code",
   "execution_count": 11,
   "id": "51214037",
   "metadata": {},
   "outputs": [],
   "source": [
    "#Shuffle y repeat hacen que los datos esten mezclados de manera aleatoria para que la red\n",
    "#no se vaya a aprender el orden de las cosas\n",
    "train = train.repeat().shuffle(train_size).batch(BATCH_SIZE)\n",
    "test = test.batch(BATCH_SIZE)"
   ]
  },
  {
   "cell_type": "code",
   "execution_count": 12,
   "id": "8bae6922",
   "metadata": {},
   "outputs": [
    {
     "name": "stdout",
     "output_type": "stream",
     "text": [
      "Epoch 1/5\n"
     ]
    },
    {
     "name": "stdout",
     "output_type": "stream",
     "text": [
      "1875/1875 [==============================] - 18s 8ms/step - loss: 0.2927 - accuracy: 0.9087 - val_loss: 0.0786 - val_accuracy: 0.9761\n",
      "Epoch 2/5\n",
      "1875/1875 [==============================] - 14s 8ms/step - loss: 0.1185 - accuracy: 0.9640 - val_loss: 0.0633 - val_accuracy: 0.9817\n",
      "Epoch 3/5\n",
      "1875/1875 [==============================] - 15s 8ms/step - loss: 0.0920 - accuracy: 0.9725 - val_loss: 0.0531 - val_accuracy: 0.9840\n",
      "Epoch 4/5\n",
      "1875/1875 [==============================] - 16s 8ms/step - loss: 0.0751 - accuracy: 0.9780 - val_loss: 0.0531 - val_accuracy: 0.9851\n",
      "Epoch 5/5\n",
      "1875/1875 [==============================] - 14s 8ms/step - loss: 0.0667 - accuracy: 0.9793 - val_loss: 0.0463 - val_accuracy: 0.9869\n",
      "CPU times: user 3min 25s, sys: 14.7 s, total: 3min 39s\n",
      "Wall time: 1min 16s\n"
     ]
    }
   ],
   "source": [
    "%time history = model.fit(train, epochs=5, validation_data=test, steps_per_epoch= math.ceil(train_size/BATCH_SIZE), verbose=1 )"
   ]
  },
  {
   "cell_type": "code",
   "execution_count": 13,
   "id": "5525804b",
   "metadata": {},
   "outputs": [
    {
     "data": {
      "image/png": "[encoded data removed]",
      "text/plain": [
       "<Figure size 640x480 with 1 Axes>"
      ]
     },
     "metadata": {},
     "output_type": "display_data"
    },
    {
     "data": {
      "image/png": "[encoded data removed]",
      "text/plain": [
       "<Figure size 640x480 with 1 Axes>"
      ]
     },
     "metadata": {},
     "output_type": "display_data"
    }
   ],
   "source": [
    "import matplotlib.pyplot as plt\n",
    "\n",
    "plt.subplot(1,2,1)\n",
    "plt.plot(history.epoch,history.history['loss'], 'b',label='error')\n",
    "plt.title(u'categorical_crossentropy')\n",
    "plt.xlabel(u'época')\n",
    "plt.ylabel(r'$loss(\\omega, b)$')\n",
    "plt.grid(True)\n",
    "#plt.legend(loc='upper right')\n",
    "plt.show()\n",
    "\n",
    "plt.subplot(1,2,2)\n",
    "plt.plot(history.epoch,history.history['accuracy'], 'r',label='precisión')\n",
    "#plt.title(u'categorical_crossentropy')\n",
    "plt.xlabel(u'época')\n",
    "plt.ylabel(r'$accuracy(\\omega, b)$')\n",
    "plt.ylim([0,1.1])\n",
    "plt.grid(True)\n",
    "#plt.legend(loc='lower right')\n",
    "plt.show()"
   ]
  },
  {
   "cell_type": "code",
   "execution_count": 14,
   "id": "631396a5",
   "metadata": {},
   "outputs": [
    {
     "name": "stdout",
     "output_type": "stream",
     "text": [
      "Model: \"sequential\"\n",
      "_________________________________________________________________\n",
      " Layer (type)                Output Shape              Param #   \n",
      "=================================================================\n",
      " conv2d (Conv2D)             (None, 26, 26, 32)        320       \n",
      "                                                                 \n",
      " max_pooling2d (MaxPooling2  (None, 13, 13, 32)        0         \n",
      " D)                                                              \n",
      "                                                                 \n",
      " conv2d_1 (Conv2D)           (None, 11, 11, 64)        18496     \n",
      "                                                                 \n",
      " max_pooling2d_1 (MaxPoolin  (None, 5, 5, 64)          0         \n",
      " g2D)                                                            \n",
      "                                                                 \n",
      " conv2d_2 (Conv2D)           (None, 3, 3, 128)         73856     \n",
      "                                                                 \n",
      " max_pooling2d_2 (MaxPoolin  (None, 1, 1, 128)         0         \n",
      " g2D)                                                            \n",
      "                                                                 \n",
      " dropout (Dropout)           (None, 1, 1, 128)         0         \n",
      "                                                                 \n",
      " flatten (Flatten)           (None, 128)               0         \n",
      "                                                                 \n",
      " dense (Dense)               (None, 512)               66048     \n",
      "                                                                 \n",
      " dense_1 (Dense)             (None, 10)                5130      \n",
      "                                                                 \n",
      "=================================================================\n",
      "Total params: 163850 (640.04 KB)\n",
      "Trainable params: 163850 (640.04 KB)\n",
      "Non-trainable params: 0 (0.00 Byte)\n",
      "_________________________________________________________________\n"
     ]
    }
   ],
   "source": [
    "# Guardamos nuestro modelo\n",
    "model.summary()"
   ]
  },
  {
   "cell_type": "code",
   "execution_count": 15,
   "id": "f094e5b7",
   "metadata": {},
   "outputs": [],
   "source": [
    "# Creando una carpeta de salida\n",
    "import os\n",
    "\n",
    "if not os.path.exists(\"output\"):\n",
    "  !mkdir \"output\""
   ]
  },
  {
   "cell_type": "code",
   "execution_count": 16,
   "id": "c6597b7a",
   "metadata": {},
   "outputs": [
    {
     "name": "stderr",
     "output_type": "stream",
     "text": [
      "WARNING:root:TensorFlow Decision Forests 1.8.0 is compatible with the following TensorFlow Versions: ['2.15.0']. However, TensorFlow 2.15.1 was detected. This can cause issues with the TF API and symbols in the custom C++ ops. See the TF and TF-DF compatibility table at https://github.com/tensorflow/decision-forests/blob/main/documentation/known_issues.md#compatibility-table.\n",
      "/home/lcc_rn_08/.conda/envs/ml_gpu/lib/python3.10/site-packages/tensorflow_hub/__init__.py:61: UserWarning: pkg_resources is deprecated as an API. See https://setuptools.pypa.io/en/latest/pkg_resources.html. The pkg_resources package is slated for removal as early as 2025-11-30. Refrain from using this package or pin to Setuptools<81.\n",
      "  from pkg_resources import parse_version\n"
     ]
    },
    {
     "name": "stdout",
     "output_type": "stream",
     "text": [
      "INFO:tensorflow:Assets written to: numeros_CNN/assets\n"
     ]
    },
    {
     "name": "stderr",
     "output_type": "stream",
     "text": [
      "INFO:tensorflow:Assets written to: numeros_CNN/assets\n"
     ]
    },
    {
     "name": "stdout",
     "output_type": "stream",
     "text": [
      "Saved artifact at 'numeros_CNN'. The following endpoints are available:\n",
      "\n",
      "* Endpoint 'serve'\n",
      "  args_0 (POSITIONAL_ONLY): TensorSpec(shape=(None, 28, 28, 1), dtype=tf.float32, name='input_1')\n",
      "Output Type:\n",
      "  TensorSpec(shape=(None, 10), dtype=tf.float32, name=None)\n",
      "Captures:\n",
      "  140537442864640: TensorSpec(shape=(), dtype=tf.resource, name=None)\n",
      "  140537442709776: TensorSpec(shape=(), dtype=tf.resource, name=None)\n",
      "  140537442708544: TensorSpec(shape=(), dtype=tf.resource, name=None)\n",
      "  140537442712944: TensorSpec(shape=(), dtype=tf.resource, name=None)\n",
      "  140537442862352: TensorSpec(shape=(), dtype=tf.resource, name=None)\n",
      "  140537442869920: TensorSpec(shape=(), dtype=tf.resource, name=None)\n",
      "  140537442874144: TensorSpec(shape=(), dtype=tf.resource, name=None)\n",
      "  140537442865344: TensorSpec(shape=(), dtype=tf.resource, name=None)\n",
      "  140537442868864: TensorSpec(shape=(), dtype=tf.resource, name=None)\n",
      "  140537442873088: TensorSpec(shape=(), dtype=tf.resource, name=None)\n",
      "2025-10-12 18:29:34.341745: E external/local_xla/xla/stream_executor/cuda/cuda_dnn.cc:9261] Unable to register cuDNN factory: Attempting to register factory for plugin cuDNN when one has already been registered\n",
      "2025-10-12 18:29:34.341793: E external/local_xla/xla/stream_executor/cuda/cuda_fft.cc:607] Unable to register cuFFT factory: Attempting to register factory for plugin cuFFT when one has already been registered\n",
      "2025-10-12 18:29:34.342743: E external/local_xla/xla/stream_executor/cuda/cuda_blas.cc:1515] Unable to register cuBLAS factory: Attempting to register factory for plugin cuBLAS when one has already been registered\n",
      "2025-10-12 18:29:34.836916: W tensorflow/compiler/tf2tensorrt/utils/py_utils.cc:38] TF-TRT Warning: Could not find TensorRT\n",
      "WARNING:root:TensorFlow Decision Forests 1.8.0 is compatible with the following TensorFlow Versions: ['2.15.0']. However, TensorFlow 2.15.1 was detected. This can cause issues with the TF API and symbols in the custom C++ ops. See the TF and TF-DF compatibility table at https://github.com/tensorflow/decision-forests/blob/main/documentation/known_issues.md#compatibility-table.\n",
      "/home/lcc_rn_08/.conda/envs/ml_gpu/lib/python3.10/site-packages/tensorflow_hub/__init__.py:61: UserWarning: pkg_resources is deprecated as an API. See https://setuptools.pypa.io/en/latest/pkg_resources.html. The pkg_resources package is slated for removal as early as 2025-11-30. Refrain from using this package or pin to Setuptools<81.\n",
      "  from pkg_resources import parse_version\n"
     ]
    }
   ],
   "source": [
    "import tensorflowjs as tfjs\n",
    "\n",
    "model.export(\"numeros_CNN\")\n",
    "\n",
    "# Convertir a TensorFlow.js\n",
    "!tensorflowjs_converter \\\n",
    "    --input_format=tf_saved_model \\\n",
    "    numeros_CNN_savedmodel \\\n",
    "    ./output_tfjs\n"
   ]
  }
 ],
 "metadata": {
  "kernelspec": {
   "display_name": "Python 3",
   "language": "python",
   "name": "python3"
  },
  "language_info": {
   "codemirror_mode": {
    "name": "ipython",
    "version": 3
   },
   "file_extension": ".py",
   "mimetype": "text/x-python",
   "name": "python",
   "nbconvert_exporter": "python",
   "pygments_lexer": "ipython3",
   "version": "3.10.18"
  }
 },
 "nbformat": 4,
 "nbformat_minor": 5
}
