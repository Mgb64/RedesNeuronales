{
 "cells": [
  {
   "cell_type": "code",
   "execution_count": 1,
   "id": "962e7756",
   "metadata": {},
   "outputs": [
    {
     "name": "stderr",
     "output_type": "stream",
     "text": [
      "2025-10-12 16:21:42.804995: I tensorflow/core/util/port.cc:153] oneDNN custom operations are on. You may see slightly different numerical results due to floating-point round-off errors from different computation orders. To turn them off, set the environment variable `TF_ENABLE_ONEDNN_OPTS=0`.\n",
      "2025-10-12 16:21:42.805716: I external/local_xla/xla/tsl/cuda/cudart_stub.cc:32] Could not find cuda drivers on your machine, GPU will not be used.\n",
      "2025-10-12 16:21:42.814698: I external/local_xla/xla/tsl/cuda/cudart_stub.cc:32] Could not find cuda drivers on your machine, GPU will not be used.\n",
      "2025-10-12 16:21:42.825286: E external/local_xla/xla/stream_executor/cuda/cuda_fft.cc:467] Unable to register cuFFT factory: Attempting to register factory for plugin cuFFT when one has already been registered\n",
      "WARNING: All log messages before absl::InitializeLog() is called are written to STDERR\n",
      "E0000 00:00:1760300502.844580 2374555 cuda_dnn.cc:8579] Unable to register cuDNN factory: Attempting to register factory for plugin cuDNN when one has already been registered\n",
      "E0000 00:00:1760300502.849291 2374555 cuda_blas.cc:1407] Unable to register cuBLAS factory: Attempting to register factory for plugin cuBLAS when one has already been registered\n",
      "W0000 00:00:1760300502.866958 2374555 computation_placer.cc:177] computation placer already registered. Please check linkage and avoid linking the same target more than once.\n",
      "W0000 00:00:1760300502.866997 2374555 computation_placer.cc:177] computation placer already registered. Please check linkage and avoid linking the same target more than once.\n",
      "W0000 00:00:1760300502.867000 2374555 computation_placer.cc:177] computation placer already registered. Please check linkage and avoid linking the same target more than once.\n",
      "W0000 00:00:1760300502.867002 2374555 computation_placer.cc:177] computation placer already registered. Please check linkage and avoid linking the same target more than once.\n",
      "2025-10-12 16:21:42.872049: I tensorflow/core/platform/cpu_feature_guard.cc:210] This TensorFlow binary is optimized to use available CPU instructions in performance-critical operations.\n",
      "To enable the following instructions: AVX2 AVX512F AVX512_VNNI AVX512_BF16 FMA, in other operations, rebuild TensorFlow with the appropriate compiler flags.\n"
     ]
    }
   ],
   "source": [
    "# IMPORTANDO LIBRERIAS\n",
    "\n",
    "import tensorflow_datasets as tfds\n",
    "import math\n",
    "import tensorflow as tf"
   ]
  },
  {
   "cell_type": "code",
   "execution_count": 2,
   "id": "6a4932db",
   "metadata": {},
   "outputs": [
    {
     "name": "stderr",
     "output_type": "stream",
     "text": [
      "2025-10-12 16:21:44.777729: E external/local_xla/xla/stream_executor/cuda/cuda_platform.cc:51] failed call to cuInit: INTERNAL: CUDA error: Failed call to cuInit: UNKNOWN ERROR (303)\n"
     ]
    }
   ],
   "source": [
    "# Cargando nuestro dataset\n",
    "data, metadata = tfds.load('mnist', as_supervised=True, with_info=True)"
   ]
  },
  {
   "cell_type": "code",
   "execution_count": 3,
   "id": "7040b697",
   "metadata": {},
   "outputs": [],
   "source": [
    "# Funcion para normalizar nuestro dataset\n",
    "def normalize(images, labels):\n",
    "  images = tf.cast(images, tf.float32)\n",
    "  images /= 255 #Aqui lo pasa de 0-255 a 0-1\n",
    "  return images, labels"
   ]
  },
  {
   "cell_type": "code",
   "execution_count": 4,
   "id": "9ba8dbac",
   "metadata": {},
   "outputs": [],
   "source": [
    "# Dividimos nuestro dataset\n",
    "train, test = data['train'], data['test']"
   ]
  },
  {
   "cell_type": "code",
   "execution_count": 5,
   "id": "d36d3eb2",
   "metadata": {},
   "outputs": [],
   "source": [
    "# Guardamos los valores posibles de clasificacion\n",
    "labels = metadata.features['label'].names"
   ]
  },
  {
   "cell_type": "code",
   "execution_count": 6,
   "id": "319e1507",
   "metadata": {},
   "outputs": [],
   "source": [
    "#Normalizar los datos de entrenamiento y pruebas con la funcion que hicimos\n",
    "train = train.map(normalize)\n",
    "test = test.map(normalize)"
   ]
  },
  {
   "cell_type": "code",
   "execution_count": 7,
   "id": "0b4020d3",
   "metadata": {},
   "outputs": [],
   "source": [
    "# Cargamos a memoria para mas rapidez de entrenamiento\n",
    "train = train.cache()\n",
    "test = test.cache()"
   ]
  },
  {
   "cell_type": "code",
   "execution_count": 8,
   "id": "50497ba7",
   "metadata": {},
   "outputs": [],
   "source": [
    "# Creamos el modelo\n",
    "model = tf.keras.Sequential([\n",
    "\n",
    "  tf.keras.layers.Input(shape=(28, 28, 1)),\n",
    "    tf.keras.layers.Conv2D(32, (3,3), activation='relu' ),\n",
    "    tf.keras.layers.MaxPooling2D(2, 2),\n",
    "\n",
    "    tf.keras.layers.Conv2D(64, (3,3), activation='relu'),\n",
    "    tf.keras.layers.MaxPooling2D(2,2),\n",
    "\n",
    "    tf.keras.layers.Conv2D(128, (3,3), activation='relu'),\n",
    "    tf.keras.layers.MaxPooling2D(2,2),\n",
    "\n",
    "    tf.keras.layers.Dropout(0.5),\n",
    "    tf.keras.layers.Flatten(),\n",
    "    tf.keras.layers.Dense(512, activation='relu'),\n",
    "    tf.keras.layers.Dense(10, activation=tf.nn.softmax) #Para redes de clasificacion\n",
    "])"
   ]
  },
  {
   "cell_type": "code",
   "execution_count": 9,
   "id": "d2f597fb",
   "metadata": {},
   "outputs": [],
   "source": [
    "# Compilamos el modelo\n",
    "model.compile(\n",
    "    optimizer='adam',\n",
    "    loss=tf.keras.losses.SparseCategoricalCrossentropy(),\n",
    "    metrics=['accuracy']\n",
    ")"
   ]
  },
  {
   "cell_type": "code",
   "execution_count": 10,
   "id": "ff675242",
   "metadata": {},
   "outputs": [],
   "source": [
    "#Los numeros de datos en entrenamiento y pruebas (60k y 10k)\n",
    "train_size = metadata.splits[\"train\"].num_examples\n",
    "test_size = metadata.splits[\"test\"].num_examples\n",
    "\n",
    "#El trabajo por lotes permite que entrenamientos con gran cantidad de datos se haga de manera mas eficiente\n",
    "BATCH_SIZE = 32"
   ]
  },
  {
   "cell_type": "code",
   "execution_count": 11,
   "id": "51214037",
   "metadata": {},
   "outputs": [],
   "source": [
    "#Shuffle y repeat hacen que los datos esten mezclados de manera aleatoria para que la red\n",
    "#no se vaya a aprender el orden de las cosas\n",
    "train = train.repeat().shuffle(train_size).batch(BATCH_SIZE)\n",
    "test = test.batch(BATCH_SIZE)"
   ]
  },
  {
   "cell_type": "code",
   "execution_count": 12,
   "id": "8bae6922",
   "metadata": {},
   "outputs": [
    {
     "name": "stdout",
     "output_type": "stream",
     "text": [
      "Epoch 1/5\n"
     ]
    },
    {
     "name": "stderr",
     "output_type": "stream",
     "text": [
      "2025-10-12 16:21:45.789332: I tensorflow/core/kernels/data/tf_record_dataset_op.cc:387] The default buffer size is 262144, which is overridden by the user specified `buffer_size` of 8388608\n"
     ]
    },
    {
     "name": "stdout",
     "output_type": "stream",
     "text": [
      "\u001b[1m1875/1875\u001b[0m \u001b[32m━━━━━━━━━━━━━━━━━━━━\u001b[0m\u001b[37m\u001b[0m \u001b[1m13s\u001b[0m 6ms/step - accuracy: 0.9111 - loss: 0.2855 - val_accuracy: 0.9772 - val_loss: 0.0758\n",
      "Epoch 2/5\n",
      "\u001b[1m1875/1875\u001b[0m \u001b[32m━━━━━━━━━━━━━━━━━━━━\u001b[0m\u001b[37m\u001b[0m \u001b[1m11s\u001b[0m 6ms/step - accuracy: 0.9666 - loss: 0.1121 - val_accuracy: 0.9807 - val_loss: 0.0627\n",
      "Epoch 3/5\n",
      "\u001b[1m1875/1875\u001b[0m \u001b[32m━━━━━━━━━━━━━━━━━━━━\u001b[0m\u001b[37m\u001b[0m \u001b[1m12s\u001b[0m 7ms/step - accuracy: 0.9744 - loss: 0.0837 - val_accuracy: 0.9859 - val_loss: 0.0494\n",
      "Epoch 4/5\n",
      "\u001b[1m1875/1875\u001b[0m \u001b[32m━━━━━━━━━━━━━━━━━━━━\u001b[0m\u001b[37m\u001b[0m \u001b[1m13s\u001b[0m 7ms/step - accuracy: 0.9790 - loss: 0.0704 - val_accuracy: 0.9869 - val_loss: 0.0481\n",
      "Epoch 5/5\n",
      "\u001b[1m1875/1875\u001b[0m \u001b[32m━━━━━━━━━━━━━━━━━━━━\u001b[0m\u001b[37m\u001b[0m \u001b[1m13s\u001b[0m 7ms/step - accuracy: 0.9804 - loss: 0.0647 - val_accuracy: 0.9881 - val_loss: 0.0453\n",
      "CPU times: user 3min 17s, sys: 16.6 s, total: 3min 34s\n",
      "Wall time: 1min 2s\n"
     ]
    }
   ],
   "source": [
    "%time history = model.fit(train, epochs=5, validation_data=test, steps_per_epoch= math.ceil(train_size/BATCH_SIZE), verbose=1 )"
   ]
  },
  {
   "cell_type": "code",
   "execution_count": 13,
   "id": "5525804b",
   "metadata": {},
   "outputs": [
    {
     "data": {
      "image/png": "[encoded data removed]",
      "text/plain": [
       "<Figure size 640x480 with 1 Axes>"
      ]
     },
     "metadata": {},
     "output_type": "display_data"
    },
    {
     "data": {
      "image/png": "[encoded data removed]",
      "text/plain": [
       "<Figure size 640x480 with 1 Axes>"
      ]
     },
     "metadata": {},
     "output_type": "display_data"
    }
   ],
   "source": [
    "import matplotlib.pyplot as plt\n",
    "\n",
    "plt.subplot(1,2,1)\n",
    "plt.plot(history.epoch,history.history['loss'], 'b',label='error')\n",
    "plt.title(u'categorical_crossentropy')\n",
    "plt.xlabel(u'época')\n",
    "plt.ylabel(r'$loss(\\omega, b)$')\n",
    "plt.grid(True)\n",
    "#plt.legend(loc='upper right')\n",
    "plt.show()\n",
    "\n",
    "plt.subplot(1,2,2)\n",
    "plt.plot(history.epoch,history.history['accuracy'], 'r',label='precisión')\n",
    "#plt.title(u'categorical_crossentropy')\n",
    "plt.xlabel(u'época')\n",
    "plt.ylabel(r'$accuracy(\\omega, b)$')\n",
    "plt.ylim([0,1.1])\n",
    "plt.grid(True)\n",
    "#plt.legend(loc='lower right')\n",
    "plt.show()"
   ]
  },
  {
   "cell_type": "code",
   "execution_count": 14,
   "id": "631396a5",
   "metadata": {},
   "outputs": [
    {
     "name": "stderr",
     "output_type": "stream",
     "text": [
      "WARNING:absl:You are saving your model as an HDF5 file via `model.save()` or `keras.saving.save_model(model)`. This file format is considered legacy. We recommend using instead the native Keras format, e.g. `model.save('my_model.keras')` or `keras.saving.save_model(model, 'my_model.keras')`. \n"
     ]
    }
   ],
   "source": [
    "# Guardamos nuestro modelo\n",
    "model.save('numeros_CNN.h5')"
   ]
  },
  {
   "cell_type": "code",
   "execution_count": 15,
   "id": "f094e5b7",
   "metadata": {},
   "outputs": [],
   "source": [
    "# Creando una carpeta de salida\n",
    "import os\n",
    "\n",
    "if not os.path.exists(\"output\"):\n",
    "  !mkdir \"output\""
   ]
  },
  {
   "cell_type": "code",
   "execution_count": 16,
   "id": "795ff0a4",
   "metadata": {},
   "outputs": [
    {
     "name": "stdout",
     "output_type": "stream",
     "text": [
      "Requirement already satisfied: tensorflowjs in /home/lcc_rn_08/.conda/envs/ml_gpu/lib/python3.10/site-packages (4.22.0)\n",
      "Requirement already satisfied: flax>=0.7.2 in /home/lcc_rn_08/.conda/envs/ml_gpu/lib/python3.10/site-packages (from tensorflowjs) (0.10.4)\n",
      "Requirement already satisfied: importlib_resources>=5.9.0 in /home/lcc_rn_08/.conda/envs/ml_gpu/lib/python3.10/site-packages (from tensorflowjs) (6.5.2)\n",
      "Requirement already satisfied: jax>=0.4.13 in /home/lcc_rn_08/.conda/envs/ml_gpu/lib/python3.10/site-packages (from tensorflowjs) (0.6.2)\n",
      "Requirement already satisfied: jaxlib>=0.4.13 in /home/lcc_rn_08/.conda/envs/ml_gpu/lib/python3.10/site-packages (from tensorflowjs) (0.6.2)\n",
      "Requirement already satisfied: tensorflow<3,>=2.13.0 in /home/lcc_rn_08/.conda/envs/ml_gpu/lib/python3.10/site-packages (from tensorflowjs) (2.19.0)\n",
      "Requirement already satisfied: tf-keras>=2.13.0 in /home/lcc_rn_08/.conda/envs/ml_gpu/lib/python3.10/site-packages (from tensorflowjs) (2.19.0)\n",
      "Requirement already satisfied: tensorflow-decision-forests>=1.5.0 in /home/lcc_rn_08/.conda/envs/ml_gpu/lib/python3.10/site-packages (from tensorflowjs) (1.12.0)\n",
      "Requirement already satisfied: six<2,>=1.16.0 in /home/lcc_rn_08/.conda/envs/ml_gpu/lib/python3.10/site-packages (from tensorflowjs) (1.17.0)\n",
      "Requirement already satisfied: tensorflow-hub>=0.16.1 in /home/lcc_rn_08/.conda/envs/ml_gpu/lib/python3.10/site-packages (from tensorflowjs) (0.16.1)\n",
      "Requirement already satisfied: packaging~=23.1 in /home/lcc_rn_08/.conda/envs/ml_gpu/lib/python3.10/site-packages (from tensorflowjs) (23.2)\n",
      "Requirement already satisfied: absl-py>=1.0.0 in /home/lcc_rn_08/.conda/envs/ml_gpu/lib/python3.10/site-packages (from tensorflow<3,>=2.13.0->tensorflowjs) (2.3.1)\n",
      "Requirement already satisfied: astunparse>=1.6.0 in /home/lcc_rn_08/.conda/envs/ml_gpu/lib/python3.10/site-packages (from tensorflow<3,>=2.13.0->tensorflowjs) (1.6.3)\n",
      "Requirement already satisfied: flatbuffers>=24.3.25 in /home/lcc_rn_08/.conda/envs/ml_gpu/lib/python3.10/site-packages (from tensorflow<3,>=2.13.0->tensorflowjs) (25.9.23)\n",
      "Requirement already satisfied: gast!=0.5.0,!=0.5.1,!=0.5.2,>=0.2.1 in /home/lcc_rn_08/.conda/envs/ml_gpu/lib/python3.10/site-packages (from tensorflow<3,>=2.13.0->tensorflowjs) (0.6.0)\n",
      "Requirement already satisfied: google-pasta>=0.1.1 in /home/lcc_rn_08/.conda/envs/ml_gpu/lib/python3.10/site-packages (from tensorflow<3,>=2.13.0->tensorflowjs) (0.2.0)\n",
      "Requirement already satisfied: libclang>=13.0.0 in /home/lcc_rn_08/.conda/envs/ml_gpu/lib/python3.10/site-packages (from tensorflow<3,>=2.13.0->tensorflowjs) (18.1.1)\n",
      "Requirement already satisfied: opt-einsum>=2.3.2 in /home/lcc_rn_08/.conda/envs/ml_gpu/lib/python3.10/site-packages (from tensorflow<3,>=2.13.0->tensorflowjs) (3.4.0)\n",
      "Requirement already satisfied: protobuf!=4.21.0,!=4.21.1,!=4.21.2,!=4.21.3,!=4.21.4,!=4.21.5,<6.0.0dev,>=3.20.3 in /home/lcc_rn_08/.conda/envs/ml_gpu/lib/python3.10/site-packages (from tensorflow<3,>=2.13.0->tensorflowjs) (5.29.5)\n",
      "Requirement already satisfied: requests<3,>=2.21.0 in /home/lcc_rn_08/.conda/envs/ml_gpu/lib/python3.10/site-packages (from tensorflow<3,>=2.13.0->tensorflowjs) (2.32.5)\n",
      "Requirement already satisfied: setuptools in /home/lcc_rn_08/.conda/envs/ml_gpu/lib/python3.10/site-packages (from tensorflow<3,>=2.13.0->tensorflowjs) (80.9.0)\n",
      "Requirement already satisfied: termcolor>=1.1.0 in /home/lcc_rn_08/.conda/envs/ml_gpu/lib/python3.10/site-packages (from tensorflow<3,>=2.13.0->tensorflowjs) (3.1.0)\n",
      "Requirement already satisfied: typing-extensions>=3.6.6 in /home/lcc_rn_08/.conda/envs/ml_gpu/lib/python3.10/site-packages (from tensorflow<3,>=2.13.0->tensorflowjs) (4.15.0)\n",
      "Requirement already satisfied: wrapt>=1.11.0 in /home/lcc_rn_08/.conda/envs/ml_gpu/lib/python3.10/site-packages (from tensorflow<3,>=2.13.0->tensorflowjs) (1.14.2)\n",
      "Requirement already satisfied: grpcio<2.0,>=1.24.3 in /home/lcc_rn_08/.conda/envs/ml_gpu/lib/python3.10/site-packages (from tensorflow<3,>=2.13.0->tensorflowjs) (1.75.1)\n",
      "Requirement already satisfied: tensorboard~=2.19.0 in /home/lcc_rn_08/.conda/envs/ml_gpu/lib/python3.10/site-packages (from tensorflow<3,>=2.13.0->tensorflowjs) (2.19.0)\n",
      "Requirement already satisfied: keras>=3.5.0 in /home/lcc_rn_08/.conda/envs/ml_gpu/lib/python3.10/site-packages (from tensorflow<3,>=2.13.0->tensorflowjs) (3.11.3)\n",
      "Requirement already satisfied: numpy<2.2.0,>=1.26.0 in /home/lcc_rn_08/.conda/envs/ml_gpu/lib/python3.10/site-packages (from tensorflow<3,>=2.13.0->tensorflowjs) (1.26.4)\n",
      "Requirement already satisfied: h5py>=3.11.0 in /home/lcc_rn_08/.conda/envs/ml_gpu/lib/python3.10/site-packages (from tensorflow<3,>=2.13.0->tensorflowjs) (3.14.0)\n",
      "Requirement already satisfied: ml-dtypes<1.0.0,>=0.5.1 in /home/lcc_rn_08/.conda/envs/ml_gpu/lib/python3.10/site-packages (from tensorflow<3,>=2.13.0->tensorflowjs) (0.5.3)\n",
      "Requirement already satisfied: tensorflow-io-gcs-filesystem>=0.23.1 in /home/lcc_rn_08/.conda/envs/ml_gpu/lib/python3.10/site-packages (from tensorflow<3,>=2.13.0->tensorflowjs) (0.37.1)\n",
      "Requirement already satisfied: charset_normalizer<4,>=2 in /home/lcc_rn_08/.conda/envs/ml_gpu/lib/python3.10/site-packages (from requests<3,>=2.21.0->tensorflow<3,>=2.13.0->tensorflowjs) (3.4.3)\n",
      "Requirement already satisfied: idna<4,>=2.5 in /home/lcc_rn_08/.conda/envs/ml_gpu/lib/python3.10/site-packages (from requests<3,>=2.21.0->tensorflow<3,>=2.13.0->tensorflowjs) (3.10)\n",
      "Requirement already satisfied: urllib3<3,>=1.21.1 in /home/lcc_rn_08/.conda/envs/ml_gpu/lib/python3.10/site-packages (from requests<3,>=2.21.0->tensorflow<3,>=2.13.0->tensorflowjs) (2.5.0)\n",
      "Requirement already satisfied: certifi>=2017.4.17 in /home/lcc_rn_08/.conda/envs/ml_gpu/lib/python3.10/site-packages (from requests<3,>=2.21.0->tensorflow<3,>=2.13.0->tensorflowjs) (2025.10.5)\n",
      "Requirement already satisfied: markdown>=2.6.8 in /home/lcc_rn_08/.conda/envs/ml_gpu/lib/python3.10/site-packages (from tensorboard~=2.19.0->tensorflow<3,>=2.13.0->tensorflowjs) (3.9)\n",
      "Requirement already satisfied: tensorboard-data-server<0.8.0,>=0.7.0 in /home/lcc_rn_08/.conda/envs/ml_gpu/lib/python3.10/site-packages (from tensorboard~=2.19.0->tensorflow<3,>=2.13.0->tensorflowjs) (0.7.2)\n",
      "Requirement already satisfied: werkzeug>=1.0.1 in /home/lcc_rn_08/.conda/envs/ml_gpu/lib/python3.10/site-packages (from tensorboard~=2.19.0->tensorflow<3,>=2.13.0->tensorflowjs) (3.1.3)\n",
      "Requirement already satisfied: wheel<1.0,>=0.23.0 in /home/lcc_rn_08/.conda/envs/ml_gpu/lib/python3.10/site-packages (from astunparse>=1.6.0->tensorflow<3,>=2.13.0->tensorflowjs) (0.45.1)\n",
      "Requirement already satisfied: msgpack in /home/lcc_rn_08/.conda/envs/ml_gpu/lib/python3.10/site-packages (from flax>=0.7.2->tensorflowjs) (1.1.2)\n",
      "Requirement already satisfied: optax in /home/lcc_rn_08/.conda/envs/ml_gpu/lib/python3.10/site-packages (from flax>=0.7.2->tensorflowjs) (0.2.5)\n",
      "Requirement already satisfied: orbax-checkpoint in /home/lcc_rn_08/.conda/envs/ml_gpu/lib/python3.10/site-packages (from flax>=0.7.2->tensorflowjs) (0.11.25)\n",
      "Requirement already satisfied: tensorstore in /home/lcc_rn_08/.conda/envs/ml_gpu/lib/python3.10/site-packages (from flax>=0.7.2->tensorflowjs) (0.1.78)\n",
      "Requirement already satisfied: rich>=11.1 in /home/lcc_rn_08/.conda/envs/ml_gpu/lib/python3.10/site-packages (from flax>=0.7.2->tensorflowjs) (14.2.0)\n",
      "Requirement already satisfied: PyYAML>=5.4.1 in /home/lcc_rn_08/.conda/envs/ml_gpu/lib/python3.10/site-packages (from flax>=0.7.2->tensorflowjs) (6.0.2)\n",
      "Requirement already satisfied: treescope>=0.1.7 in /home/lcc_rn_08/.conda/envs/ml_gpu/lib/python3.10/site-packages (from flax>=0.7.2->tensorflowjs) (0.1.10)\n",
      "Requirement already satisfied: scipy>=1.12 in /home/lcc_rn_08/.conda/envs/ml_gpu/lib/python3.10/site-packages (from jax>=0.4.13->tensorflowjs) (1.15.3)\n",
      "Requirement already satisfied: namex in /home/lcc_rn_08/.conda/envs/ml_gpu/lib/python3.10/site-packages (from keras>=3.5.0->tensorflow<3,>=2.13.0->tensorflowjs) (0.1.0)\n",
      "Requirement already satisfied: optree in /home/lcc_rn_08/.conda/envs/ml_gpu/lib/python3.10/site-packages (from keras>=3.5.0->tensorflow<3,>=2.13.0->tensorflowjs) (0.17.0)\n",
      "Requirement already satisfied: markdown-it-py>=2.2.0 in /home/lcc_rn_08/.conda/envs/ml_gpu/lib/python3.10/site-packages (from rich>=11.1->flax>=0.7.2->tensorflowjs) (4.0.0)\n",
      "Requirement already satisfied: pygments<3.0.0,>=2.13.0 in /home/lcc_rn_08/.conda/envs/ml_gpu/lib/python3.10/site-packages (from rich>=11.1->flax>=0.7.2->tensorflowjs) (2.19.2)\n",
      "Requirement already satisfied: mdurl~=0.1 in /home/lcc_rn_08/.conda/envs/ml_gpu/lib/python3.10/site-packages (from markdown-it-py>=2.2.0->rich>=11.1->flax>=0.7.2->tensorflowjs) (0.1.2)\n",
      "Requirement already satisfied: pandas in /home/lcc_rn_08/.conda/envs/ml_gpu/lib/python3.10/site-packages (from tensorflow-decision-forests>=1.5.0->tensorflowjs) (2.3.2)\n",
      "Requirement already satisfied: wurlitzer in /home/lcc_rn_08/.conda/envs/ml_gpu/lib/python3.10/site-packages (from tensorflow-decision-forests>=1.5.0->tensorflowjs) (3.1.1)\n",
      "Requirement already satisfied: ydf>=0.11.0 in /home/lcc_rn_08/.conda/envs/ml_gpu/lib/python3.10/site-packages (from tensorflow-decision-forests>=1.5.0->tensorflowjs) (0.13.0)\n",
      "Requirement already satisfied: MarkupSafe>=2.1.1 in /home/lcc_rn_08/.conda/envs/ml_gpu/lib/python3.10/site-packages (from werkzeug>=1.0.1->tensorboard~=2.19.0->tensorflow<3,>=2.13.0->tensorflowjs) (3.0.3)\n",
      "Requirement already satisfied: chex>=0.1.87 in /home/lcc_rn_08/.conda/envs/ml_gpu/lib/python3.10/site-packages (from optax->flax>=0.7.2->tensorflowjs) (0.1.90)\n",
      "Requirement already satisfied: toolz>=0.9.0 in /home/lcc_rn_08/.conda/envs/ml_gpu/lib/python3.10/site-packages (from chex>=0.1.87->optax->flax>=0.7.2->tensorflowjs) (1.0.0)\n",
      "Requirement already satisfied: etils[epath,epy] in /home/lcc_rn_08/.conda/envs/ml_gpu/lib/python3.10/site-packages (from orbax-checkpoint->flax>=0.7.2->tensorflowjs) (1.13.0)\n",
      "Requirement already satisfied: nest_asyncio in /home/lcc_rn_08/.conda/envs/ml_gpu/lib/python3.10/site-packages (from orbax-checkpoint->flax>=0.7.2->tensorflowjs) (1.6.0)\n",
      "Requirement already satisfied: aiofiles in /home/lcc_rn_08/.conda/envs/ml_gpu/lib/python3.10/site-packages (from orbax-checkpoint->flax>=0.7.2->tensorflowjs) (25.1.0)\n",
      "Requirement already satisfied: humanize in /home/lcc_rn_08/.conda/envs/ml_gpu/lib/python3.10/site-packages (from orbax-checkpoint->flax>=0.7.2->tensorflowjs) (4.13.0)\n",
      "Requirement already satisfied: simplejson>=3.16.0 in /home/lcc_rn_08/.conda/envs/ml_gpu/lib/python3.10/site-packages (from orbax-checkpoint->flax>=0.7.2->tensorflowjs) (3.20.2)\n",
      "Requirement already satisfied: fsspec in /home/lcc_rn_08/.conda/envs/ml_gpu/lib/python3.10/site-packages (from etils[epath,epy]->orbax-checkpoint->flax>=0.7.2->tensorflowjs) (2025.9.0)\n",
      "Requirement already satisfied: zipp in /home/lcc_rn_08/.conda/envs/ml_gpu/lib/python3.10/site-packages (from etils[epath,epy]->orbax-checkpoint->flax>=0.7.2->tensorflowjs) (3.23.0)\n",
      "Requirement already satisfied: python-dateutil>=2.8.2 in /home/lcc_rn_08/.conda/envs/ml_gpu/lib/python3.10/site-packages (from pandas->tensorflow-decision-forests>=1.5.0->tensorflowjs) (2.9.0.post0)\n",
      "Requirement already satisfied: pytz>=2020.1 in /home/lcc_rn_08/.conda/envs/ml_gpu/lib/python3.10/site-packages (from pandas->tensorflow-decision-forests>=1.5.0->tensorflowjs) (2025.2)\n",
      "Requirement already satisfied: tzdata>=2022.7 in /home/lcc_rn_08/.conda/envs/ml_gpu/lib/python3.10/site-packages (from pandas->tensorflow-decision-forests>=1.5.0->tensorflowjs) (2025.2)\n",
      "Note: you may need to restart the kernel to use updated packages.\n"
     ]
    }
   ],
   "source": [
    "%pip install tensorflowjs"
   ]
  },
  {
   "cell_type": "code",
   "execution_count": 17,
   "id": "88b61a6d",
   "metadata": {},
   "outputs": [
    {
     "name": "stdout",
     "output_type": "stream",
     "text": [
      "2025-10-12 16:22:49.247259: E external/local_xla/xla/stream_executor/cuda/cuda_fft.cc:467] Unable to register cuFFT factory: Attempting to register factory for plugin cuFFT when one has already been registered\n",
      "WARNING: All log messages before absl::InitializeLog() is called are written to STDERR\n",
      "E0000 00:00:1760300569.258745 2374904 cuda_dnn.cc:8579] Unable to register cuDNN factory: Attempting to register factory for plugin cuDNN when one has already been registered\n",
      "E0000 00:00:1760300569.262224 2374904 cuda_blas.cc:1407] Unable to register cuBLAS factory: Attempting to register factory for plugin cuBLAS when one has already been registered\n",
      "W0000 00:00:1760300569.272384 2374904 computation_placer.cc:177] computation placer already registered. Please check linkage and avoid linking the same target more than once.\n",
      "W0000 00:00:1760300569.272406 2374904 computation_placer.cc:177] computation placer already registered. Please check linkage and avoid linking the same target more than once.\n",
      "W0000 00:00:1760300569.272409 2374904 computation_placer.cc:177] computation placer already registered. Please check linkage and avoid linking the same target more than once.\n",
      "W0000 00:00:1760300569.272412 2374904 computation_placer.cc:177] computation placer already registered. Please check linkage and avoid linking the same target more than once.\n",
      "\u001b[32m🌲 Try \u001b[0m\u001b[34mhttps://ydf.readthedocs.io\u001b[0m\u001b[32m, the successor of TensorFlow Decision Forests with more features and faster training!\u001b[0m\n",
      "/home/lcc_rn_08/.conda/envs/ml_gpu/lib/python3.10/site-packages/tensorflow_hub/__init__.py:61: UserWarning: pkg_resources is deprecated as an API. See https://setuptools.pypa.io/en/latest/pkg_resources.html. The pkg_resources package is slated for removal as early as 2025-11-30. Refrain from using this package or pin to Setuptools<81.\n",
      "  from pkg_resources import parse_version\n",
      "failed to lookup keras version from the file,\n",
      "    this is likely a weight only file\n"
     ]
    }
   ],
   "source": [
    "!tensorflowjs_converter --input_format=keras ./numeros_CNN.h5 ./output/"
   ]
  }
 ],
 "metadata": {
  "kernelspec": {
   "display_name": "Python 3",
   "language": "python",
   "name": "python3"
  },
  "language_info": {
   "codemirror_mode": {
    "name": "ipython",
    "version": 3
   },
   "file_extension": ".py",
   "mimetype": "text/x-python",
   "name": "python",
   "nbconvert_exporter": "python",
   "pygments_lexer": "ipython3",
   "version": "3.10.18"
  }
 },
 "nbformat": 4,
 "nbformat_minor": 5
}
